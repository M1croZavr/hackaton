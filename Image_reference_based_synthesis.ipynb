{
  "nbformat": 4,
  "nbformat_minor": 0,
  "metadata": {
    "colab": {
      "private_outputs": true,
      "provenance": [],
      "collapsed_sections": [],
      "authorship_tag": "ABX9TyO3CO4M91xbcf7q6VaFrFhk",
      "include_colab_link": true
    },
    "kernelspec": {
      "name": "python3",
      "display_name": "Python 3"
    },
    "language_info": {
      "name": "python"
    },
    "accelerator": "GPU",
    "gpuClass": "standard"
  },
  "cells": [
    {
      "cell_type": "markdown",
      "metadata": {
        "id": "view-in-github",
        "colab_type": "text"
      },
      "source": [
        "<a href=\"https://colab.research.google.com/github/M1croZavr/hackaton/blob/master/Image_reference_based_synthesis.ipynb\" target=\"_parent\"><img src=\"https://colab.research.google.com/assets/colab-badge.svg\" alt=\"Open In Colab\"/></a>"
      ]
    },
    {
      "cell_type": "markdown",
      "source": [
        "## Установка репозитория и необходимых пакетов"
      ],
      "metadata": {
        "id": "WhJosh1zXISe"
      }
    },
    {
      "cell_type": "code",
      "execution_count": null,
      "metadata": {
        "id": "je0no6vuIEpt"
      },
      "outputs": [],
      "source": [
        "!git clone https://github.com/M1croZavr/hackaton.git"
      ]
    },
    {
      "cell_type": "code",
      "source": [
        "!pip install munch"
      ],
      "metadata": {
        "id": "MhHcl4PXIg3J"
      },
      "execution_count": null,
      "outputs": []
    },
    {
      "cell_type": "code",
      "source": [
        "import torch\n",
        "import torchvision\n",
        "from torchvision import transforms\n",
        "import os\n",
        "import gdown\n",
        "import pathlib\n",
        "import zipfile\n",
        "from matplotlib import pyplot as plt\n",
        "from hackaton.StarGAN.stargan_v2.core import model\n",
        "\n",
        "import warnings\n",
        "warnings.filterwarnings('ignore')\n",
        "\n",
        "DEVICE = 'cuda' if torch.cuda.is_available() else 'cpu'"
      ],
      "metadata": {
        "id": "LiPqzxdjIKUn"
      },
      "execution_count": null,
      "outputs": []
    },
    {
      "cell_type": "markdown",
      "source": [
        "## Загрузка натренированных параметров и тестовых данных"
      ],
      "metadata": {
        "id": "5LG2lMg0Xh-I"
      }
    },
    {
      "cell_type": "code",
      "source": [
        "# Download test data\n",
        "url = 'https://drive.google.com/uc?id=1Edn1eCVe_9_cacf13unumD1gRATcFD-j'\n",
        "output = 'test_images.zip'\n",
        "gdown.download(url, output, quiet=False)\n",
        "\n",
        "# Download models parameters\n",
        "url = 'https://drive.google.com/uc?id=1UF3wDFE30JWRE1Zidas0VTpYaJEckmRH'\n",
        "output = 'GAN_weights'\n",
        "gdown.download(url, output, quiet=False)"
      ],
      "metadata": {
        "id": "-AcIy1z5ILCQ"
      },
      "execution_count": null,
      "outputs": []
    },
    {
      "cell_type": "code",
      "source": [
        "with zipfile.ZipFile('./test_images.zip') as archive:\n",
        "    archive.extractall('./')"
      ],
      "metadata": {
        "id": "UZk7squwILEj"
      },
      "execution_count": null,
      "outputs": []
    },
    {
      "cell_type": "code",
      "source": [
        "weights_dir = pathlib.Path('./GAN_weights')\n",
        "test_images_dir = pathlib.Path('./validation_images')"
      ],
      "metadata": {
        "id": "yC9s2x4aTBEw"
      },
      "execution_count": null,
      "outputs": []
    },
    {
      "cell_type": "code",
      "source": [
        "generator = model.Generator(\n",
        "    img_size=256,\n",
        "    style_dim=64,\n",
        "    max_conv_dim=512,\n",
        "    w_hpf=0\n",
        ")\n",
        "generator.to(DEVICE)\n",
        "mapper = model.MappingNetwork(\n",
        "    latent_dim=16,\n",
        "    style_dim=64,\n",
        "    num_domains=3\n",
        ")\n",
        "mapper.to(DEVICE)\n",
        "encoder = model.StyleEncoder(\n",
        "    img_size=256,\n",
        "    style_dim=64,\n",
        "    num_domains=3,\n",
        "    max_conv_dim=512\n",
        ")\n",
        "encoder.to(DEVICE)\n",
        "\n",
        "module_dict = torch.load(weights_dir, map_location=torch.device(DEVICE))\n",
        "print(f'Загруженные модели: {module_dict.keys()}')\n",
        "\n",
        "generator.load_state_dict(module_dict['generator'])\n",
        "mapper.load_state_dict(module_dict['mapping_network'])\n",
        "encoder.load_state_dict(module_dict['style_encoder'])"
      ],
      "metadata": {
        "id": "m_ONnzXHTBHF"
      },
      "execution_count": null,
      "outputs": []
    },
    {
      "cell_type": "markdown",
      "source": [
        "## Синтез изображений из тестовой выборки, reference-based синтез патологий"
      ],
      "metadata": {
        "id": "EVWSjcr1YDEn"
      }
    },
    {
      "cell_type": "code",
      "source": [
        "transform = transforms.Compose([\n",
        "    transforms.Resize([256, 256]),\n",
        "    transforms.ToTensor(),\n",
        "    transforms.Normalize(mean=[0.5, 0.5, 0.5],\n",
        "                         std=[0.5, 0.5, 0.5]),\n",
        "])\n",
        "dataset = torchvision.datasets.ImageFolder(test_images_dir, transform)"
      ],
      "metadata": {
        "id": "EhGaCT90TBOp"
      },
      "execution_count": null,
      "outputs": []
    },
    {
      "cell_type": "code",
      "source": [
        "x, y = dataset[112]\n",
        "x_ref, y_ref = dataset[42]\n",
        "\n",
        "plt.figure(figsize=(12, 9))\n",
        "plt.subplot(1, 2, 1)\n",
        "plt.title(f'Source image {dataset.classes[y]}')\n",
        "plt.imshow(x.permute(1, 2, 0))\n",
        "plt.axis(False)\n",
        "\n",
        "plt.subplot(1, 2, 2)\n",
        "plt.title(f'Reference image {dataset.classes[y_ref]}')\n",
        "plt.imshow(x_ref.permute(1, 2, 0))\n",
        "plt.axis(False);"
      ],
      "metadata": {
        "id": "2_dNns-CTBQ_"
      },
      "execution_count": null,
      "outputs": []
    },
    {
      "cell_type": "code",
      "source": [
        "x, y = x.unsqueeze(dim=0).to(DEVICE), torch.LongTensor([y])\n",
        "x_ref, y_ref = x_ref.unsqueeze(dim=0).to(DEVICE), torch.LongTensor([y_ref])"
      ],
      "metadata": {
        "id": "jKgPqfSdTBS8"
      },
      "execution_count": null,
      "outputs": []
    },
    {
      "cell_type": "code",
      "source": [
        "with torch.inference_mode():\n",
        "    encoder.eval()\n",
        "    generator.eval()\n",
        "    style_code = encoder(x_ref, y_ref)\n",
        "    generated_image = generator(x, style_code)"
      ],
      "metadata": {
        "id": "R1vopSfnVa5J"
      },
      "execution_count": null,
      "outputs": []
    },
    {
      "cell_type": "markdown",
      "source": [
        "### Синтезированное изображение патологии"
      ],
      "metadata": {
        "id": "5o_EOYy_bGOx"
      }
    },
    {
      "cell_type": "code",
      "source": [
        "plt.figure(figsize=(9, 6))\n",
        "plt.imshow(generated_image.cpu().squeeze(dim=0).permute(1, 2, 0))\n",
        "plt.title('Image-to-image translation from referenced image')\n",
        "plt.axis(False);"
      ],
      "metadata": {
        "id": "cpzybSYJVa-B"
      },
      "execution_count": null,
      "outputs": []
    },
    {
      "cell_type": "code",
      "source": [
        "with torch.inference_mode():\n",
        "    mapper.eval()\n",
        "    generator.eval()\n",
        "    latent_code = torch.randn(1, 16)\n",
        "    latent_code = latent_code.to(DEVICE)\n",
        "    mapped_style_code = mapper(latent_code, y_ref)\n",
        "    generated_image = generator(x, mapped_style_code)"
      ],
      "metadata": {
        "id": "iLkTf4waVbBT"
      },
      "execution_count": null,
      "outputs": []
    },
    {
      "cell_type": "code",
      "source": [
        "plt.figure(figsize=(9, 6))\n",
        "plt.imshow(generated_image.cpu().squeeze(dim=0).permute(1, 2, 0))\n",
        "plt.title('Image-to-image translation from cancer random latent code')\n",
        "plt.axis(False);"
      ],
      "metadata": {
        "id": "JitO-9C0Vzlu"
      },
      "execution_count": null,
      "outputs": []
    },
    {
      "cell_type": "code",
      "source": [],
      "metadata": {
        "id": "uI5xoMSoV1At"
      },
      "execution_count": null,
      "outputs": []
    }
  ]
}