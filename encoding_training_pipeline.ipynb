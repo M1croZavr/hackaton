{
 "cells": [
  {
   "cell_type": "code",
   "execution_count": 1,
   "metadata": {},
   "outputs": [
    {
     "name": "stdout",
     "output_type": "stream",
     "text": [
      "Running device: cuda\n"
     ]
    }
   ],
   "source": [
    "from GeneratorEncoderTriplets.encoder.data_processing import ImagesDataset, BalanceSamplerFilled\n",
    "from GeneratorEncoderTriplets.encoder.loss_module import EPHNLoss\n",
    "from StarGAN.stargan_v2.core.model import StyleEncoder\n",
    "import torch\n",
    "from torch import optim\n",
    "from torchvision import transforms, models\n",
    "from torch.utils.data import DataLoader\n",
    "from tqdm.auto import tqdm\n",
    "import pathlib\n",
    "import time\n",
    "import os\n",
    "from matplotlib import pyplot as plt\n",
    "from sklearn import manifold\n",
    "import numpy as np\n",
    "\n",
    "DEVICE = 'cuda' if torch.cuda.is_available() else 'cpu'\n",
    "print('Running device:', DEVICE)"
   ]
  },
  {
   "cell_type": "code",
   "execution_count": 3,
   "metadata": {},
   "outputs": [],
   "source": [
    "train_transforms = transforms.Compose(\n",
    "    [transforms.Resize((256, 256)),\n",
    "     transforms.ToTensor(),\n",
    "     transforms.Normalize(mean=[0.5, 0.5, 0.5], std=[0.5, 0.5, 0.5])]\n",
    ")\n",
    "train_data_path = pathlib.Path('./hackaton/TripletsEncoderGAN-experiments/dataset/train')\n",
    "\n",
    "eval_transforms = transforms.Compose(\n",
    "    [transforms.Resize((256, 256)),\n",
    "     transforms.ToTensor(),\n",
    "     transforms.Normalize(mean=[0.5, 0.5, 0.5], std=[0.5, 0.5, 0.5])]\n",
    ")\n",
    "eval_data_path = pathlib.Path('./hackaton/TripletsEncoderGAN-experiments/dataset/val')"
   ]
  },
  {
   "cell_type": "code",
   "execution_count": 4,
   "metadata": {},
   "outputs": [
    {
     "data": {
      "text/plain": [
       "(375, 505, 450)"
      ]
     },
     "execution_count": 4,
     "metadata": {},
     "output_type": "execute_result"
    }
   ],
   "source": [
    "len(os.listdir(train_data_path / 'normal')), len(os.listdir(train_data_path / 'cancer')), len(os.listdir(train_data_path / 'covid'))"
   ]
  },
  {
   "cell_type": "code",
   "execution_count": 5,
   "metadata": {},
   "outputs": [
    {
     "data": {
      "text/plain": [
       "(41, 56, 50)"
      ]
     },
     "execution_count": 5,
     "metadata": {},
     "output_type": "execute_result"
    }
   ],
   "source": [
    "len(os.listdir(eval_data_path / 'normal')), len(os.listdir(eval_data_path / 'cancer')), len(os.listdir(eval_data_path / 'covid'))"
   ]
  },
  {
   "cell_type": "code",
   "execution_count": 6,
   "metadata": {},
   "outputs": [],
   "source": [
    "# encoder_model = StyleEncoder(\n",
    "#     img_size=256,\n",
    "#     style_dim=64,\n",
    "#     num_domains=3\n",
    "# )\n",
    "encoder_model = models.resnet50(pretrained=True)\n",
    "fc_in_features = encoder_model.fc.in_features\n",
    "encoder_model.fc = torch.nn.Linear(in_features=fc_in_features, out_features=64)\n",
    "# Possibly use pretrained from stargan-v2\n",
    "encoder_model.to(DEVICE)\n",
    "\n",
    "N_EPOCHS = 200\n",
    "N_SIZE = 505\n",
    "BATCH_SIZE = 128\n",
    "NUM_WORKERS = 8\n",
    "criterion = EPHNLoss()\n",
    "criterion.semi = True\n",
    "optimizer = optim.SGD(encoder_model.parameters(), lr=0.0005, momentum=0.0)\n",
    "# Decay after 0.5 (50 in case of 100) * epochs and after 0.75 * epochs (75 in case of 100)\n",
    "scheduler = optim.lr_scheduler.MultiStepLR(optimizer, [int(N_EPOCHS * 0.5), int(N_EPOCHS * 0.75)], gamma=0.1)"
   ]
  },
  {
   "cell_type": "code",
   "execution_count": 7,
   "metadata": {},
   "outputs": [
    {
     "data": {
      "text/plain": [
       "True"
      ]
     },
     "execution_count": 7,
     "metadata": {},
     "output_type": "execute_result"
    }
   ],
   "source": [
    "next(iter(encoder_model.parameters())).requires_grad"
   ]
  },
  {
   "cell_type": "code",
   "execution_count": 8,
   "metadata": {},
   "outputs": [
    {
     "name": "stdout",
     "output_type": "stream",
     "text": [
      "147 2 {'cancer': 0, 'covid': 1, 'normal': 2}\n"
     ]
    }
   ],
   "source": [
    "eval_dataset = ImagesDataset(\n",
    "    data_path=eval_data_path,\n",
    "    images_transform=eval_transforms,\n",
    "    target_transform=None\n",
    ")\n",
    "eval_sampler = BalanceSamplerFilled(intervals=eval_dataset.intervals, n_images=56)\n",
    "eval_loader = DataLoader(eval_dataset, batch_size=BATCH_SIZE, sampler=eval_sampler, num_workers=NUM_WORKERS)\n",
    "print(len(eval_dataset), len(eval_loader), eval_dataset.class_to_idx)"
   ]
  },
  {
   "cell_type": "code",
   "execution_count": 9,
   "metadata": {},
   "outputs": [
    {
     "data": {
      "text/plain": [
       "((tensor([0, 1, 2]), tensor([41, 39, 48])),\n",
       " {'cancer': 0, 'covid': 1, 'normal': 2})"
      ]
     },
     "execution_count": 9,
     "metadata": {},
     "output_type": "execute_result"
    }
   ],
   "source": [
    "torch.unique(next(iter(eval_loader))[1], return_counts=True), eval_dataset.class_to_idx"
   ]
  },
  {
   "cell_type": "code",
   "execution_count": 10,
   "metadata": {},
   "outputs": [],
   "source": [
    "dataset = ImagesDataset(\n",
    "    data_path=train_data_path,\n",
    "    images_transform=train_transforms,\n",
    "    target_transform=None\n",
    ")\n",
    "sampler = BalanceSamplerFilled(intervals=dataset.intervals, n_images=N_SIZE)\n",
    "loader = DataLoader(dataset, batch_size=BATCH_SIZE, sampler=sampler, num_workers=NUM_WORKERS)"
   ]
  },
  {
   "cell_type": "code",
   "execution_count": 11,
   "metadata": {},
   "outputs": [
    {
     "data": {
      "text/plain": [
       "([[0, 375], [375, 880], [880, 1330]], {'cancer': 0, 'covid': 1, 'normal': 2})"
      ]
     },
     "execution_count": 11,
     "metadata": {},
     "output_type": "execute_result"
    }
   ],
   "source": [
    "dataset.intervals, dataset.class_to_idx"
   ]
  },
  {
   "cell_type": "code",
   "execution_count": 12,
   "metadata": {},
   "outputs": [
    {
     "data": {
      "application/vnd.jupyter.widget-view+json": {
       "model_id": "15ef90bf78214f968b35114e822d53a1",
       "version_major": 2,
       "version_minor": 0
      },
      "text/plain": [
       "  0%|          | 0/201 [00:00<?, ?it/s]"
      ]
     },
     "metadata": {},
     "output_type": "display_data"
    },
    {
     "name": "stdout",
     "output_type": "stream",
     "text": [
      "Epoch: 2 | Train loss: 0.2969956696033478 | Test loss: 0.2875724583864212\n",
      "Epoch: 4 | Train loss: 0.09269535976151626 | Test loss: 0.17352642863988876\n",
      "Epoch: 6 | Train loss: 0.04666284751147032 | Test loss: 0.07865791767835617\n",
      "Epoch: 8 | Train loss: 0.02999591773065428 | Test loss: 0.047037738375365734\n",
      "Epoch: 10 | Train loss: 0.024171245361988742 | Test loss: 0.05984698049724102\n",
      "Epoch: 12 | Train loss: 0.019689537041510146 | Test loss: 0.042636564001441\n",
      "Epoch: 14 | Train loss: 0.015975150008065004 | Test loss: 0.041989379562437534\n",
      "Epoch: 16 | Train loss: 0.01406903270011147 | Test loss: 0.04012106917798519\n",
      "Epoch: 18 | Train loss: 0.011030190663101772 | Test loss: 0.03357477020472288\n",
      "Epoch: 20 | Train loss: 0.011617851443588734 | Test loss: 0.03558462392538786\n",
      "Epoch: 22 | Train loss: 0.009453930581609407 | Test loss: 0.02927297167479992\n",
      "Epoch: 24 | Train loss: 0.006927025310384731 | Test loss: 0.029685580637305975\n",
      "Epoch: 26 | Train loss: 0.006852596105697255 | Test loss: 0.028642258141189814\n",
      "Epoch: 28 | Train loss: 0.006716377722720305 | Test loss: 0.027820039074867964\n",
      "Epoch: 30 | Train loss: 0.006163798932296534 | Test loss: 0.02842185040935874\n",
      "Epoch: 32 | Train loss: 0.005858744397604217 | Test loss: 0.027853977866470814\n",
      "Epoch: 34 | Train loss: 0.0054156170614684624 | Test loss: 0.026770648546516895\n",
      "Epoch: 36 | Train loss: 0.005910376610700041 | Test loss: 0.02783472975715995\n",
      "Epoch: 38 | Train loss: 0.004988186100187401 | Test loss: 0.02610435802489519\n",
      "Epoch: 40 | Train loss: 0.004578331368975341 | Test loss: 0.02596235927194357\n",
      "Epoch: 42 | Train loss: 0.005398999104121079 | Test loss: 0.024369277758523822\n",
      "Epoch: 44 | Train loss: 0.003709388702797393 | Test loss: 0.02445232681930065\n",
      "Epoch: 46 | Train loss: 0.0031662516218299666 | Test loss: 0.02363432664424181\n",
      "Epoch: 48 | Train loss: 0.0038096606925440333 | Test loss: 0.023233557119965553\n",
      "Epoch: 50 | Train loss: 0.0031048079351118454 | Test loss: 0.023401465034112334\n",
      "Epoch: 52 | Train loss: 0.0037121827287289 | Test loss: 0.022187722846865654\n",
      "Epoch: 54 | Train loss: 0.0030361266302255294 | Test loss: 0.021990052424371243\n",
      "Epoch: 56 | Train loss: 0.0030057062782968083 | Test loss: 0.021424598060548306\n",
      "Epoch: 58 | Train loss: 0.002780806738883257 | Test loss: 0.020776196150109172\n",
      "Epoch: 60 | Train loss: 0.002862553985323757 | Test loss: 0.02041438757441938\n",
      "Epoch: 62 | Train loss: 0.002940465909584115 | Test loss: 0.020065492717549205\n",
      "Epoch: 64 | Train loss: 0.0028047410305589437 | Test loss: 0.020313380053266883\n",
      "Epoch: 66 | Train loss: 0.0020933715374364206 | Test loss: 0.019102517748251557\n",
      "Epoch: 68 | Train loss: 0.0023187683157933256 | Test loss: 0.0195316628087312\n",
      "Epoch: 70 | Train loss: 0.002349921880522743 | Test loss: 0.01921839895658195\n",
      "Epoch: 72 | Train loss: 0.0021431010488110283 | Test loss: 0.01905850670300424\n",
      "Epoch: 74 | Train loss: 0.002339984115678817 | Test loss: 0.01859162445180118\n",
      "Epoch: 76 | Train loss: 0.0020665277746350816 | Test loss: 0.019182244315743446\n",
      "Epoch: 78 | Train loss: 0.002088413486490026 | Test loss: 0.019610805669799447\n",
      "Epoch: 80 | Train loss: 0.0018888200380994629 | Test loss: 0.019305165275000036\n",
      "Epoch: 82 | Train loss: 0.0020140603204102567 | Test loss: 0.018064874690026045\n",
      "Epoch: 84 | Train loss: 0.0017864819092210382 | Test loss: 0.018436568323522806\n",
      "Epoch: 86 | Train loss: 0.001847321439223985 | Test loss: 0.018210077192634344\n",
      "Epoch: 88 | Train loss: 0.002101314108585939 | Test loss: 0.019634153111837804\n",
      "Epoch: 90 | Train loss: 0.0018975837641240407 | Test loss: 0.018270328757353127\n",
      "Epoch: 92 | Train loss: 0.001781669115492453 | Test loss: 0.017279480351135135\n",
      "Epoch: 94 | Train loss: 0.001691753287256385 | Test loss: 0.017658609431236982\n",
      "Epoch: 96 | Train loss: 0.0018087673912911366 | Test loss: 0.018408145057037473\n",
      "Epoch: 98 | Train loss: 0.0017626810198028882 | Test loss: 0.017302881460636854\n",
      "Epoch: 100 | Train loss: 0.001563000463647768 | Test loss: 0.0175621856469661\n",
      "Epoch: 102 | Train loss: 0.0018079208287720878 | Test loss: 0.017600891878828406\n",
      "Epoch: 104 | Train loss: 0.0019457498856354505 | Test loss: 0.017244828515686095\n",
      "Epoch: 106 | Train loss: 0.0014666794061971207 | Test loss: 0.017757529974915087\n",
      "Epoch: 108 | Train loss: 0.002220232990415146 | Test loss: 0.017132797627709806\n",
      "Epoch: 110 | Train loss: 0.0017415476468158886 | Test loss: 0.017250333330594003\n",
      "Epoch: 112 | Train loss: 0.0016873665250993024 | Test loss: 0.017132912995293736\n",
      "Epoch: 114 | Train loss: 0.0016662412866329153 | Test loss: 0.017555151251144707\n",
      "Epoch: 116 | Train loss: 0.0017798582169537742 | Test loss: 0.017589326831512153\n",
      "Epoch: 118 | Train loss: 0.0015019902978868533 | Test loss: 0.017018145183101296\n",
      "Epoch: 120 | Train loss: 0.0016721547581255436 | Test loss: 0.01714534277562052\n",
      "Epoch: 122 | Train loss: 0.00160720984179837 | Test loss: 0.01755847514141351\n",
      "Epoch: 124 | Train loss: 0.0015401525791579236 | Test loss: 0.017594364588148892\n",
      "Epoch: 126 | Train loss: 0.001634544615323345 | Test loss: 0.01754881802480668\n",
      "Epoch: 128 | Train loss: 0.0015360001222385715 | Test loss: 0.0172673175111413\n",
      "Epoch: 130 | Train loss: 0.0016417384516292561 | Test loss: 0.016938587883487344\n",
      "Epoch: 132 | Train loss: 0.0016975197358988225 | Test loss: 0.01705525442957878\n",
      "Epoch: 134 | Train loss: 0.0017770464473869652 | Test loss: 0.017219300265423954\n",
      "Epoch: 136 | Train loss: 0.001806728629162535 | Test loss: 0.017183449119329453\n",
      "Epoch: 138 | Train loss: 0.0017954570745738845 | Test loss: 0.01770810387097299\n",
      "Epoch: 140 | Train loss: 0.001609950481603543 | Test loss: 0.017600166611373425\n",
      "Epoch: 142 | Train loss: 0.0015599397835709776 | Test loss: 0.017285685054957867\n",
      "Epoch: 144 | Train loss: 0.00183534188545309 | Test loss: 0.017357198637910187\n",
      "Epoch: 146 | Train loss: 0.0014874596478572737 | Test loss: 0.017206555465236306\n",
      "Epoch: 148 | Train loss: 0.0017396793409716338 | Test loss: 0.01728119677864015\n",
      "Epoch: 150 | Train loss: 0.0016652961591413866 | Test loss: 0.017739889794029295\n",
      "Epoch: 152 | Train loss: 0.0014634108714138467 | Test loss: 0.017566408379934728\n",
      "Epoch: 154 | Train loss: 0.0016487027266218017 | Test loss: 0.017314378055743873\n",
      "Epoch: 156 | Train loss: 0.0019048516599771876 | Test loss: 0.01768195687327534\n",
      "Epoch: 158 | Train loss: 0.0016403946210630238 | Test loss: 0.017382507910951972\n",
      "Epoch: 160 | Train loss: 0.0017254288832191378 | Test loss: 0.01708493975456804\n",
      "Epoch: 162 | Train loss: 0.0015636593064603705 | Test loss: 0.016739220125600696\n",
      "Epoch: 164 | Train loss: 0.001776512508513406 | Test loss: 0.017269939300604165\n",
      "Epoch: 166 | Train loss: 0.0018081883414803694 | Test loss: 0.017157536931335926\n",
      "Epoch: 168 | Train loss: 0.0019843961442044624 | Test loss: 0.017137241549789906\n",
      "Epoch: 170 | Train loss: 0.001593846585213517 | Test loss: 0.01688627921976149\n",
      "Epoch: 172 | Train loss: 0.0016747799624378483 | Test loss: 0.017253834987059236\n",
      "Epoch: 174 | Train loss: 0.0016279130650218576 | Test loss: 0.016765102627687156\n",
      "Epoch: 176 | Train loss: 0.0017048776498995721 | Test loss: 0.017249702475965023\n",
      "Epoch: 178 | Train loss: 0.0015332276234403253 | Test loss: 0.017249130876734853\n",
      "Epoch: 180 | Train loss: 0.0018119125064307202 | Test loss: 0.01737735967617482\n",
      "Epoch: 182 | Train loss: 0.0015389787828704964 | Test loss: 0.01708315417636186\n",
      "Epoch: 184 | Train loss: 0.0016365225601475686 | Test loss: 0.01770626800134778\n",
      "Epoch: 186 | Train loss: 0.0015481438701196264 | Test loss: 0.017501627444289625\n",
      "Epoch: 188 | Train loss: 0.0016075360569326829 | Test loss: 0.017490003374405205\n",
      "Epoch: 190 | Train loss: 0.0018011633267936606 | Test loss: 0.0174666924867779\n",
      "Epoch: 192 | Train loss: 0.00155881344107911 | Test loss: 0.01686366298235953\n",
      "Epoch: 194 | Train loss: 0.0017606477971033503 | Test loss: 0.017442285548895597\n",
      "Epoch: 196 | Train loss: 0.0015784832018349941 | Test loss: 0.017097134259529412\n",
      "Epoch: 198 | Train loss: 0.001671834974937762 | Test loss: 0.01725330704357475\n",
      "Epoch: 200 | Train loss: 0.001603595825145021 | Test loss: 0.0168746467679739\n",
      "Total training time: 2094.8160104751587\n"
     ]
    }
   ],
   "source": [
    "start_time = time.time()\n",
    "global_iterations = 0\n",
    "for epoch in tqdm(range(N_EPOCHS + 1)): \n",
    "    if epoch > 0:\n",
    "        dataset = ImagesDataset(\n",
    "            data_path=train_data_path,\n",
    "            images_transform=train_transforms,\n",
    "            target_transform=None\n",
    "        )\n",
    "        sampler = BalanceSamplerFilled(intervals=dataset.intervals, n_images=N_SIZE)\n",
    "        loader = DataLoader(dataset, batch_size=BATCH_SIZE, sampler=sampler, num_workers=NUM_WORKERS)\n",
    "        \n",
    "        encoder_model.train()\n",
    " \n",
    "        # record loss\n",
    "        train_loss_accum = 0.0\n",
    "\n",
    "        # iterate batch\n",
    "        for x_batch, y_batch in loader:\n",
    "            x_batch, y_batch = x_batch.to(DEVICE), y_batch.to(DEVICE)\n",
    "            optimizer.zero_grad()\n",
    "            with torch.set_grad_enabled(True):\n",
    "                # Image and its label\n",
    "                # <FloatTensor> <LongTensor>\n",
    "                # fvec is encoded vector\n",
    "                fvec = encoder_model(x_batch)\n",
    "                # Calculate EPHN Triplet NCA loss\n",
    "                loss, Pos_log, Neg_log, margin = criterion(fvec, y_batch)\n",
    "                loss.backward()\n",
    "                optimizer.step() \n",
    "            # writer.add_histogram('Pos_hist', Pos_log, global_it)\n",
    "            # writer.add_histogram('Neg_hist', Neg_log, global_it)\n",
    "            # writer.add_scalar('Margin', margin, global_it)\n",
    "            global_iterations += 1\n",
    "\n",
    "            train_loss_accum += loss.item()\n",
    "            # N_data += len(y_batch)\n",
    "            \n",
    "        # writer.add_scalar('loss', L_data/N_data, epoch)\n",
    "        # adjust the learning rate\n",
    "        scheduler.step()\n",
    "    \n",
    "        # evaluation phase\n",
    "        if epoch % 2 == 0:\n",
    "            encoder_model.eval()\n",
    "            test_loss_accum = 0.0\n",
    "            with torch.inference_mode():\n",
    "                for test_x_batch, test_y_batch in eval_loader:\n",
    "                    test_x_batch, test_y_batch = test_x_batch.to(DEVICE), test_y_batch.to(DEVICE)\n",
    "                    test_fvec = encoder_model(test_x_batch)\n",
    "                    test_loss, test_Pos_log, test_Neg_log, test_margin = criterion(test_fvec, test_y_batch)\n",
    "                    test_loss_accum += test_loss.item()\n",
    "            print(f'Epoch: {epoch} | Train loss: {train_loss_accum / len(loader)} | Test loss: {test_loss_accum / len(eval_loader)}')\n",
    "end_time = time.time()\n",
    "print('Total training time:', end_time - start_time)"
   ]
  },
  {
   "cell_type": "code",
   "execution_count": 13,
   "metadata": {},
   "outputs": [],
   "source": [
    "triplets_encoder_path = pathlib.Path('./hackaton/TripletsEncoderGAN-experiments/checkpoints/triplets_encoder_resnet50.pth')\n",
    "with open(triplets_encoder_path, 'wb') as file:\n",
    "    torch.save(encoder_model.state_dict(), file)"
   ]
  },
  {
   "cell_type": "code",
   "execution_count": 14,
   "metadata": {},
   "outputs": [
    {
     "data": {
      "text/plain": [
       "{'cancer': 0, 'covid': 1, 'normal': 2}"
      ]
     },
     "execution_count": 14,
     "metadata": {},
     "output_type": "execute_result"
    }
   ],
   "source": [
    "eval_dataset.class_to_idx"
   ]
  },
  {
   "cell_type": "code",
   "execution_count": 15,
   "metadata": {},
   "outputs": [],
   "source": [
    "normal_example = eval_dataset[0]\n",
    "cancer_example = eval_dataset[50]\n",
    "covid_example = eval_dataset[100]\n",
    "\n",
    "normal_example2 = eval_dataset[2]\n",
    "cancer_example2 = eval_dataset[52]\n",
    "covid_example2 = eval_dataset[102]"
   ]
  },
  {
   "cell_type": "code",
   "execution_count": 16,
   "metadata": {},
   "outputs": [],
   "source": [
    "def extract_embedding(example: tuple, model: torch.nn.Module):\n",
    "    model.eval()\n",
    "    with torch.inference_mode():\n",
    "        image, domain = example\n",
    "        image, domain = image.unsqueeze(dim=0), torch.LongTensor([domain])\n",
    "        image, domain = image.to(DEVICE), domain.to(DEVICE)\n",
    "        return model(image)"
   ]
  },
  {
   "cell_type": "code",
   "execution_count": 17,
   "metadata": {},
   "outputs": [],
   "source": [
    "normal_embedding = extract_embedding(normal_example, encoder_model)\n",
    "cancer_embedding = extract_embedding(cancer_example, encoder_model)\n",
    "covid_embedding = extract_embedding(covid_example, encoder_model)"
   ]
  },
  {
   "cell_type": "code",
   "execution_count": 18,
   "metadata": {},
   "outputs": [],
   "source": [
    "normal_embedding2 = extract_embedding(normal_example2, encoder_model)\n",
    "cancer_embedding2 = extract_embedding(cancer_example2, encoder_model)\n",
    "covid_embedding2 = extract_embedding(covid_example2, encoder_model)"
   ]
  },
  {
   "cell_type": "code",
   "execution_count": 19,
   "metadata": {},
   "outputs": [
    {
     "data": {
      "text/plain": [
       "tensor(2.0753, device='cuda:0')"
      ]
     },
     "execution_count": 19,
     "metadata": {},
     "output_type": "execute_result"
    }
   ],
   "source": [
    "torch.sqrt(torch.sum((normal_embedding - cancer_embedding) ** 2))"
   ]
  },
  {
   "cell_type": "code",
   "execution_count": 20,
   "metadata": {},
   "outputs": [
    {
     "data": {
      "text/plain": [
       "tensor(1.9084, device='cuda:0')"
      ]
     },
     "execution_count": 20,
     "metadata": {},
     "output_type": "execute_result"
    }
   ],
   "source": [
    "torch.sqrt(torch.sum((covid_embedding - covid_embedding2) ** 2))"
   ]
  },
  {
   "cell_type": "code",
   "execution_count": 21,
   "metadata": {},
   "outputs": [
    {
     "name": "stdout",
     "output_type": "stream",
     "text": [
      "Mon Nov  7 19:25:33 2022       \n",
      "+-----------------------------------------------------------------------------+\n",
      "| NVIDIA-SMI 510.47.03    Driver Version: 510.47.03    CUDA Version: 11.6     |\n",
      "|-------------------------------+----------------------+----------------------+\n",
      "| GPU  Name        Persistence-M| Bus-Id        Disp.A | Volatile Uncorr. ECC |\n",
      "| Fan  Temp  Perf  Pwr:Usage/Cap|         Memory-Usage | GPU-Util  Compute M. |\n",
      "|                               |                      |               MIG M. |\n",
      "|===============================+======================+======================|\n",
      "|   0  Tesla V100-PCIE...  On   | 00000000:8B:00.0 Off |                    0 |\n",
      "| N/A   37C    P0    38W / 250W |  16055MiB / 32768MiB |      0%      Default |\n",
      "|                               |                      |                  N/A |\n",
      "+-------------------------------+----------------------+----------------------+\n",
      "                                                                               \n",
      "+-----------------------------------------------------------------------------+\n",
      "| Processes:                                                                  |\n",
      "|  GPU   GI   CI        PID   Type   Process name                  GPU Memory |\n",
      "|        ID   ID                                                   Usage      |\n",
      "|=============================================================================|\n",
      "|    0   N/A  N/A       701      G   /usr/lib/xorg/Xorg                  4MiB |\n",
      "|    0   N/A  N/A     31602      C   .../envs/hack_lct/bin/python    16047MiB |\n",
      "+-----------------------------------------------------------------------------+\n"
     ]
    }
   ],
   "source": [
    "!nvidia-smi"
   ]
  },
  {
   "cell_type": "code",
   "execution_count": 22,
   "metadata": {},
   "outputs": [],
   "source": [
    "with torch.inference_mode():\n",
    "    encoder_model.load_state_dict(torch.load(triplets_encoder_path))\n",
    "    domains = []\n",
    "    embeddings = []\n",
    "    encoder_model.eval()\n",
    "    for x_batch, y_batch in eval_loader:\n",
    "        x_batch, y_batch = x_batch.to(DEVICE), y_batch.to(DEVICE)\n",
    "        f_vectors = encoder_model(x_batch)\n",
    "        domains += y_batch.tolist()\n",
    "        embeddings.append(f_vectors.cpu())\n",
    "    embeddings = torch.concat(embeddings, dim=0)"
   ]
  },
  {
   "cell_type": "code",
   "execution_count": 23,
   "metadata": {},
   "outputs": [
    {
     "name": "stderr",
     "output_type": "stream",
     "text": [
      "/home/natitov/miniforge/envs/hack_lct/lib/python3.7/site-packages/sklearn/manifold/_t_sne.py:783: FutureWarning: The default initialization in TSNE will change from 'random' to 'pca' in 1.2.\n",
      "  FutureWarning,\n",
      "/home/natitov/miniforge/envs/hack_lct/lib/python3.7/site-packages/sklearn/manifold/_t_sne.py:793: FutureWarning: The default learning rate in TSNE will change from 200.0 to 'auto' in 1.2.\n",
      "  FutureWarning,\n"
     ]
    }
   ],
   "source": [
    "tsne = manifold.TSNE(n_components=2)\n",
    "tsne_embeddings = tsne.fit_transform(embeddings)"
   ]
  },
  {
   "cell_type": "code",
   "execution_count": 24,
   "metadata": {},
   "outputs": [
    {
     "data": {
      "text/plain": [
       "{'cancer': 0, 'covid': 1, 'normal': 2}"
      ]
     },
     "execution_count": 24,
     "metadata": {},
     "output_type": "execute_result"
    }
   ],
   "source": [
    "eval_dataset.class_to_idx"
   ]
  },
  {
   "cell_type": "code",
   "execution_count": 25,
   "metadata": {},
   "outputs": [
    {
     "data": {
      "image/png": "[encoded data removed]",
      "text/plain": [
       "<Figure size 1080x864 with 1 Axes>"
      ]
     },
     "metadata": {
      "needs_background": "light"
     },
     "output_type": "display_data"
    }
   ],
   "source": [
    "plt.figure(figsize=(15, 12))\n",
    "domains = np.array(domains)\n",
    "plt.scatter(tsne_embeddings[domains == 0][:, 0], tsne_embeddings[domains == 0][:, 1], c='red', label='cancer')\n",
    "plt.scatter(tsne_embeddings[domains == 1][:, 0], tsne_embeddings[domains == 1][:, 1], c='blue', label='covid')\n",
    "plt.scatter(tsne_embeddings[domains == 2][:, 0], tsne_embeddings[domains == 2][:, 1], c='green', label='normal')\n",
    "plt.xlabel('TSNE dimension 1')\n",
    "plt.ylabel('TSNE dimension 2')\n",
    "plt.legend()\n",
    "plt.grid(False);"
   ]
  },
  {
   "cell_type": "code",
   "execution_count": null,
   "metadata": {},
   "outputs": [],
   "source": []
  }
 ],
 "metadata": {
  "kernelspec": {
   "display_name": "Python 3.7.12 ('hack_lct')",
   "language": "python",
   "name": "python3"
  },
  "language_info": {
   "codemirror_mode": {
    "name": "ipython",
    "version": 3
   },
   "file_extension": ".py",
   "mimetype": "text/x-python",
   "name": "python",
   "nbconvert_exporter": "python",
   "pygments_lexer": "ipython3",
   "version": "3.7.12"
  },
  "orig_nbformat": 4,
  "vscode": {
   "interpreter": {
    "hash": "a3f295056defde4433ed5fc2b741708031d72bc9c9ddba9e24d35a8c2637138c"
   }
  }
 },
 "nbformat": 4,
 "nbformat_minor": 2
}
