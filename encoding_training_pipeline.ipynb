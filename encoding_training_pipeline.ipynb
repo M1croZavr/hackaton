{
 "cells": [
  {
   "cell_type": "code",
   "execution_count": 1,
   "metadata": {},
   "outputs": [
    {
     "name": "stdout",
     "output_type": "stream",
     "text": [
      "Running device: cuda\n"
     ]
    }
   ],
   "source": [
    "from GeneratorEncoderTriplets.encoder.data_processing import ImagesDataset, BalanceSamplerFilled\n",
    "from GeneratorEncoderTriplets.encoder.loss_module import EPHNLoss\n",
    "from StarGAN.stargan_v2.core.model import StyleEncoder\n",
    "import torch\n",
    "from torch import optim\n",
    "from torchvision import transforms\n",
    "from torch.utils.data import DataLoader\n",
    "from tqdm.auto import tqdm\n",
    "import pathlib\n",
    "import time\n",
    "import os\n",
    "from matplotlib import pyplot as plt\n",
    "from sklearn import manifold\n",
    "import numpy as np\n",
    "\n",
    "DEVICE = 'cuda' if torch.cuda.is_available() else 'cpu'\n",
    "print('Running device:', DEVICE)"
   ]
  },
  {
   "cell_type": "code",
   "execution_count": 5,
   "metadata": {},
   "outputs": [],
   "source": [
    "train_transforms = transforms.Compose(\n",
    "    [transforms.Resize((256, 256)),\n",
    "     transforms.ToTensor(),\n",
    "     transforms.Normalize(mean=[0.5, 0.5, 0.5], std=[0.5, 0.5, 0.5])]\n",
    ")\n",
    "train_data_path = pathlib.Path('./StarGAN/hackaton/stargan-v2-experiments/dataset/train/')\n",
    "\n",
    "eval_transforms = transforms.Compose(\n",
    "    [transforms.Resize((256, 256)),\n",
    "     transforms.ToTensor(),\n",
    "     transforms.Normalize(mean=[0.5, 0.5, 0.5], std=[0.5, 0.5, 0.5])]\n",
    ")\n",
    "eval_data_path = pathlib.Path('./StarGAN/hackaton/stargan-v2-experiments/dataset/val/')"
   ]
  },
  {
   "cell_type": "code",
   "execution_count": 6,
   "metadata": {},
   "outputs": [
    {
     "data": {
      "text/plain": [
       "(375, 505, 289)"
      ]
     },
     "execution_count": 6,
     "metadata": {},
     "output_type": "execute_result"
    }
   ],
   "source": [
    "len(os.listdir(train_data_path / 'normal')), len(os.listdir(train_data_path / 'cancer')), len(os.listdir(train_data_path / 'covid'))"
   ]
  },
  {
   "cell_type": "code",
   "execution_count": 7,
   "metadata": {},
   "outputs": [
    {
     "data": {
      "text/plain": [
       "(41, 56, 32)"
      ]
     },
     "execution_count": 7,
     "metadata": {},
     "output_type": "execute_result"
    }
   ],
   "source": [
    "len(os.listdir(eval_data_path / 'normal')), len(os.listdir(eval_data_path / 'cancer')), len(os.listdir(eval_data_path / 'covid'))"
   ]
  },
  {
   "cell_type": "code",
   "execution_count": 8,
   "metadata": {},
   "outputs": [],
   "source": [
    "encoder_model = StyleEncoder(\n",
    "    img_size=256,\n",
    "    style_dim=64,\n",
    "    num_domains=3\n",
    ")\n",
    "# Possibly use pretrained from stargan-v2\n",
    "encoder_model.to(DEVICE)\n",
    "\n",
    "N_EPOCHS = 100\n",
    "N_SIZE = 505\n",
    "BATCH_SIZE = 128\n",
    "NUM_WORKERS = 8\n",
    "criterion = EPHNLoss()\n",
    "criterion.semi = True\n",
    "optimizer = optim.SGD(encoder_model.parameters(), lr=0.0005, momentum=0.0)\n",
    "# Decay after 0.5 (50 in case of 100) * epochs and after 0.75 * epochs (75 in case of 100)\n",
    "scheduler = optim.lr_scheduler.MultiStepLR(optimizer, [int(N_EPOCHS * 0.5), int(N_EPOCHS * 0.75)], gamma=0.1)"
   ]
  },
  {
   "cell_type": "code",
   "execution_count": 9,
   "metadata": {},
   "outputs": [
    {
     "name": "stdout",
     "output_type": "stream",
     "text": [
      "129 2\n"
     ]
    }
   ],
   "source": [
    "eval_dataset = ImagesDataset(\n",
    "    data_path=eval_data_path,\n",
    "    images_transform=eval_transforms,\n",
    "    target_transform=None\n",
    ")\n",
    "eval_sampler = BalanceSamplerFilled(intervals=eval_dataset.intervals, n_images=56)\n",
    "eval_loader = DataLoader(eval_dataset, batch_size=BATCH_SIZE, sampler=eval_sampler, num_workers=NUM_WORKERS)\n",
    "print(len(eval_dataset), len(eval_loader))"
   ]
  },
  {
   "cell_type": "code",
   "execution_count": 16,
   "metadata": {},
   "outputs": [
    {
     "data": {
      "text/plain": [
       "((tensor([0, 1, 2]), tensor([44, 45, 39])),\n",
       " {'cancer': 0, 'covid': 1, 'normal': 2})"
      ]
     },
     "execution_count": 16,
     "metadata": {},
     "output_type": "execute_result"
    }
   ],
   "source": [
    "torch.unique(next(iter(eval_loader))[1], return_counts=True), eval_dataset.class_to_idx"
   ]
  },
  {
   "cell_type": "code",
   "execution_count": 18,
   "metadata": {},
   "outputs": [],
   "source": [
    "dataset = ImagesDataset(\n",
    "    data_path=train_data_path,\n",
    "    images_transform=train_transforms,\n",
    "    target_transform=None\n",
    ")\n",
    "sampler = BalanceSamplerFilled(intervals=dataset.intervals, n_images=N_SIZE)\n",
    "loader = DataLoader(dataset, batch_size=BATCH_SIZE, sampler=sampler, num_workers=NUM_WORKERS)"
   ]
  },
  {
   "cell_type": "code",
   "execution_count": 20,
   "metadata": {},
   "outputs": [
    {
     "data": {
      "text/plain": [
       "[[0, 375], [375, 880], [880, 1169]]"
      ]
     },
     "execution_count": 20,
     "metadata": {},
     "output_type": "execute_result"
    }
   ],
   "source": [
    "dataset.intervals"
   ]
  },
  {
   "cell_type": "code",
   "execution_count": 22,
   "metadata": {},
   "outputs": [
    {
     "data": {
      "application/vnd.jupyter.widget-view+json": {
       "model_id": "9233fbfdb38b484d972cf3de0a92a927",
       "version_major": 2,
       "version_minor": 0
      },
      "text/plain": [
       "  0%|          | 0/101 [00:00<?, ?it/s]"
      ]
     },
     "metadata": {},
     "output_type": "display_data"
    },
    {
     "name": "stdout",
     "output_type": "stream",
     "text": [
      "Epoch: 2 | Train loss: 0.00015283511917611273 | Test loss: 0.0001529500659671612\n",
      "Epoch: 4 | Train loss: 0.00015158627381121428 | Test loss: 0.00015188091492746025\n",
      "Epoch: 6 | Train loss: 0.0001505202950890331 | Test loss: 0.0001508246859884821\n",
      "Epoch: 8 | Train loss: 0.00014940014807507396 | Test loss: 0.00014978113176766783\n",
      "Epoch: 10 | Train loss: 0.0001486258054986441 | Test loss: 0.00014876403292873874\n",
      "Epoch: 12 | Train loss: 0.00014752166559143612 | Test loss: 0.00014774708688491955\n",
      "Epoch: 14 | Train loss: 0.00014647132654014663 | Test loss: 0.0001467618130845949\n",
      "Epoch: 16 | Train loss: 0.00014563506556442007 | Test loss: 0.00014578633272321895\n",
      "Epoch: 18 | Train loss: 0.00014454211850534193 | Test loss: 0.00014481529797194526\n",
      "Epoch: 20 | Train loss: 0.00014344798303985348 | Test loss: 0.00014386540715349838\n",
      "Epoch: 22 | Train loss: 0.0001427236432694675 | Test loss: 0.00014293190906755626\n",
      "Epoch: 24 | Train loss: 0.00014169681890052743 | Test loss: 0.00014201553130988032\n",
      "Epoch: 26 | Train loss: 0.0001408911581772069 | Test loss: 0.00014109990297583863\n",
      "Epoch: 28 | Train loss: 0.00013990228762850165 | Test loss: 0.00014020542585058138\n",
      "Epoch: 30 | Train loss: 0.0001391546757076867 | Test loss: 0.0001393159618601203\n",
      "Epoch: 32 | Train loss: 0.00013805655059210645 | Test loss: 0.00013844605564372614\n",
      "Epoch: 34 | Train loss: 0.00013740362555836327 | Test loss: 0.00013760034926235676\n",
      "Epoch: 36 | Train loss: 0.00013655414901829013 | Test loss: 0.00013674076762981713\n",
      "Epoch: 38 | Train loss: 0.00013577691182338944 | Test loss: 0.00013589824084192514\n",
      "Epoch: 40 | Train loss: 0.00013473602060306197 | Test loss: 0.00013508326810551807\n",
      "Epoch: 42 | Train loss: 0.00013414320953112716 | Test loss: 0.0001342637260677293\n",
      "Epoch: 44 | Train loss: 0.00013318252846753845 | Test loss: 0.0001334634653176181\n",
      "Epoch: 46 | Train loss: 0.00013240497355582193 | Test loss: 0.00013267093163449317\n",
      "Epoch: 48 | Train loss: 0.0001316945272265002 | Test loss: 0.00013189395394874737\n",
      "Epoch: 50 | Train loss: 0.00013097378905513324 | Test loss: 0.00013111947191646323\n",
      "Epoch: 52 | Train loss: 0.0001305112527916208 | Test loss: 0.00013104033132549375\n",
      "Epoch: 54 | Train loss: 0.0001306674093939364 | Test loss: 0.00013096713519189507\n",
      "Epoch: 56 | Train loss: 0.00013038174074608833 | Test loss: 0.00013090176798868924\n",
      "Epoch: 58 | Train loss: 0.00013044178801161857 | Test loss: 0.00013082867371849716\n",
      "Epoch: 60 | Train loss: 0.00013043740909779444 | Test loss: 0.00013075399328954518\n",
      "Epoch: 62 | Train loss: 0.00013026944967956902 | Test loss: 0.00013068313273834065\n",
      "Epoch: 64 | Train loss: 0.00013045783271081746 | Test loss: 0.00013060592755209655\n",
      "Epoch: 66 | Train loss: 0.00012996053434714364 | Test loss: 0.00013053507427684963\n",
      "Epoch: 68 | Train loss: 0.00013013356874580495 | Test loss: 0.00013046290405327454\n",
      "Epoch: 70 | Train loss: 0.00013014931391808204 | Test loss: 0.00013038728502579033\n",
      "Epoch: 72 | Train loss: 0.00012986403332130672 | Test loss: 0.0001303164171986282\n",
      "Epoch: 74 | Train loss: 0.00012968245209776796 | Test loss: 0.00013024928193772212\n",
      "Epoch: 76 | Train loss: 0.00012985512997450618 | Test loss: 0.0001302031014347449\n",
      "Epoch: 78 | Train loss: 0.00012980366348832226 | Test loss: 0.00013019640027778223\n",
      "Epoch: 80 | Train loss: 0.00012997893039331151 | Test loss: 0.00013018876052228734\n",
      "Epoch: 82 | Train loss: 0.00012966854289212884 | Test loss: 0.0001301858719671145\n",
      "Epoch: 84 | Train loss: 0.00013007596498937346 | Test loss: 0.00013017870514886454\n",
      "Epoch: 86 | Train loss: 0.00012986948665153855 | Test loss: 0.0001301753509324044\n",
      "Epoch: 88 | Train loss: 0.00012987276204512455 | Test loss: 0.00013016659795539454\n",
      "Epoch: 90 | Train loss: 0.00012966473150299862 | Test loss: 0.00013016035518376157\n",
      "Epoch: 92 | Train loss: 0.0001298342661660475 | Test loss: 0.0001301560696447268\n",
      "Epoch: 94 | Train loss: 0.000129908402110838 | Test loss: 0.00013014871365157887\n",
      "Epoch: 96 | Train loss: 0.00012973986061600348 | Test loss: 0.00013013912393944338\n",
      "Epoch: 98 | Train loss: 0.00012969484547890411 | Test loss: 0.00013013437273912132\n",
      "Epoch: 100 | Train loss: 0.00012976361783027338 | Test loss: 0.00013012515410082415\n",
      "Total training time: 1462.4845769405365\n"
     ]
    }
   ],
   "source": [
    "start_time = time.time()\n",
    "global_iterations = 0\n",
    "for epoch in tqdm(range(N_EPOCHS + 1)): \n",
    "    if epoch > 0:\n",
    "        dataset = ImagesDataset(\n",
    "            data_path=train_data_path,\n",
    "            images_transform=train_transforms,\n",
    "            target_transform=None\n",
    "        )\n",
    "        sampler = BalanceSamplerFilled(intervals=dataset.intervals, n_images=N_SIZE)\n",
    "        loader = DataLoader(dataset, batch_size=BATCH_SIZE, sampler=sampler, num_workers=NUM_WORKERS)\n",
    "        \n",
    "        encoder_model.train()\n",
    " \n",
    "        # record loss\n",
    "        train_loss_accum = 0.0\n",
    "\n",
    "        # iterate batch\n",
    "        for x_batch, y_batch in loader:\n",
    "            x_batch, y_batch = x_batch.to(DEVICE), y_batch.to(DEVICE)\n",
    "            optimizer.zero_grad()\n",
    "            with torch.set_grad_enabled(True):\n",
    "                # Image and its label\n",
    "                # <FloatTensor> <LongTensor>\n",
    "                # fvec is encoded vector\n",
    "                fvec = encoder_model(x_batch, y_batch)\n",
    "                # Calculate EPHN Triplet NCA loss\n",
    "                loss, Pos_log, Neg_log, margin = criterion(fvec, y_batch)\n",
    "                loss.backward()\n",
    "                optimizer.step() \n",
    "            # writer.add_histogram('Pos_hist', Pos_log, global_it)\n",
    "            # writer.add_histogram('Neg_hist', Neg_log, global_it)\n",
    "            # writer.add_scalar('Margin', margin, global_it)\n",
    "            global_iterations += 1\n",
    "\n",
    "            train_loss_accum += loss.item()\n",
    "            # N_data += len(y_batch)\n",
    "            \n",
    "        # writer.add_scalar('loss', L_data/N_data, epoch)\n",
    "        # adjust the learning rate\n",
    "        scheduler.step()\n",
    "    \n",
    "        # evaluation phase\n",
    "        if epoch % 2 == 0:\n",
    "            encoder_model.eval()\n",
    "            test_loss_accum = 0.0\n",
    "            with torch.inference_mode():\n",
    "                for test_x_batch, test_y_batch in eval_loader:\n",
    "                    test_x_batch, test_y_batch = test_x_batch.to(DEVICE), test_y_batch.to(DEVICE)\n",
    "                    test_fvec = encoder_model(test_x_batch, test_y_batch)\n",
    "                    test_loss, test_Pos_log, test_Neg_log, test_margin = criterion(test_fvec, test_y_batch)\n",
    "                    test_loss_accum += test_loss.item()\n",
    "            print(f'Epoch: {epoch} | Train loss: {train_loss_accum / len(loader)} | Test loss: {test_loss_accum / len(eval_loader)}')\n",
    "end_time = time.time()\n",
    "print('Total training time:', end_time - start_time)"
   ]
  },
  {
   "cell_type": "code",
   "execution_count": 2,
   "metadata": {},
   "outputs": [],
   "source": [
    "triplets_encoder_path = pathlib.Path('./StarGAN/hackaton/stargan-v2-experiments/checkpoints/triplets_encoder.pth')\n",
    "# with open(triplets_encoder_path, 'wb') as file:\n",
    "#     torch.save(encoder_model.state_dict(), file)"
   ]
  },
  {
   "cell_type": "code",
   "execution_count": 24,
   "metadata": {},
   "outputs": [
    {
     "data": {
      "text/plain": [
       "{'cancer': 0, 'covid': 1, 'normal': 2}"
      ]
     },
     "execution_count": 24,
     "metadata": {},
     "output_type": "execute_result"
    }
   ],
   "source": [
    "eval_dataset.class_to_idx"
   ]
  },
  {
   "cell_type": "code",
   "execution_count": 25,
   "metadata": {},
   "outputs": [],
   "source": [
    "normal_example = eval_dataset[0]\n",
    "cancer_example = eval_dataset[50]\n",
    "covid_example = eval_dataset[100]\n",
    "\n",
    "normal_example2 = eval_dataset[1]\n",
    "cancer_example2 = eval_dataset[51]\n",
    "covid_example2 = eval_dataset[101]"
   ]
  },
  {
   "cell_type": "code",
   "execution_count": 26,
   "metadata": {},
   "outputs": [],
   "source": [
    "def extract_embedding(example: tuple, model: torch.nn.Module):\n",
    "    model.eval()\n",
    "    with torch.inference_mode():\n",
    "        image, domain = example\n",
    "        image, domain = image.unsqueeze(dim=0), torch.LongTensor([domain])\n",
    "        image, label = image.to(DEVICE), domain.to(DEVICE)\n",
    "        return model(image, domain)"
   ]
  },
  {
   "cell_type": "code",
   "execution_count": 27,
   "metadata": {},
   "outputs": [],
   "source": [
    "normal_embedding = extract_embedding(normal_example, encoder_model)\n",
    "cancer_embedding = extract_embedding(cancer_example, encoder_model)\n",
    "covid_embedding = extract_embedding(covid_example, encoder_model)"
   ]
  },
  {
   "cell_type": "code",
   "execution_count": 28,
   "metadata": {},
   "outputs": [],
   "source": [
    "normal_embedding2 = extract_embedding(normal_example2, encoder_model)\n",
    "cancer_embedding2 = extract_embedding(cancer_example2, encoder_model)\n",
    "covid_embedding2 = extract_embedding(covid_example2, encoder_model)"
   ]
  },
  {
   "cell_type": "code",
   "execution_count": 29,
   "metadata": {},
   "outputs": [
    {
     "data": {
      "text/plain": [
       "tensor(0.2810, device='cuda:0')"
      ]
     },
     "execution_count": 29,
     "metadata": {},
     "output_type": "execute_result"
    }
   ],
   "source": [
    "torch.sqrt(torch.sum((normal_embedding - cancer_embedding) ** 2))"
   ]
  },
  {
   "cell_type": "code",
   "execution_count": 30,
   "metadata": {},
   "outputs": [
    {
     "data": {
      "text/plain": [
       "tensor(0.0065, device='cuda:0')"
      ]
     },
     "execution_count": 30,
     "metadata": {},
     "output_type": "execute_result"
    }
   ],
   "source": [
    "torch.sqrt(torch.sum((covid_embedding - covid_embedding2) ** 2))"
   ]
  },
  {
   "cell_type": "code",
   "execution_count": 3,
   "metadata": {},
   "outputs": [
    {
     "name": "stdout",
     "output_type": "stream",
     "text": [
      "Fri Nov  4 09:43:05 2022       \n",
      "+-----------------------------------------------------------------------------+\n",
      "| NVIDIA-SMI 510.47.03    Driver Version: 510.47.03    CUDA Version: 11.6     |\n",
      "|-------------------------------+----------------------+----------------------+\n",
      "| GPU  Name        Persistence-M| Bus-Id        Disp.A | Volatile Uncorr. ECC |\n",
      "| Fan  Temp  Perf  Pwr:Usage/Cap|         Memory-Usage | GPU-Util  Compute M. |\n",
      "|                               |                      |               MIG M. |\n",
      "|===============================+======================+======================|\n",
      "|   0  Tesla V100-PCIE...  On   | 00000000:8B:00.0 Off |                    0 |\n",
      "| N/A   30C    P0    35W / 250W |  26765MiB / 32768MiB |      0%      Default |\n",
      "|                               |                      |                  N/A |\n",
      "+-------------------------------+----------------------+----------------------+\n",
      "                                                                               \n",
      "+-----------------------------------------------------------------------------+\n",
      "| Processes:                                                                  |\n",
      "|  GPU   GI   CI        PID   Type   Process name                  GPU Memory |\n",
      "|        ID   ID                                                   Usage      |\n",
      "|=============================================================================|\n",
      "|    0   N/A  N/A       688      G   /usr/lib/xorg/Xorg                  4MiB |\n",
      "|    0   N/A  N/A     57488      C   .../envs/hack_lct/bin/python    26757MiB |\n",
      "+-----------------------------------------------------------------------------+\n"
     ]
    }
   ],
   "source": [
    "!nvidia-smi"
   ]
  },
  {
   "cell_type": "code",
   "execution_count": 12,
   "metadata": {},
   "outputs": [],
   "source": [
    "with torch.inference_mode():\n",
    "    encoder_model.load_state_dict(torch.load(triplets_encoder_path))\n",
    "    domains = []\n",
    "    embeddings = []\n",
    "    encoder_model.eval()\n",
    "    for x_batch, y_batch in eval_loader:\n",
    "        x_batch, y_batch = x_batch.to(DEVICE), y_batch.to(DEVICE)\n",
    "        f_vectors = encoder_model(x_batch, y_batch)\n",
    "        domains += y_batch.tolist()\n",
    "        embeddings.append(f_vectors.cpu())\n",
    "    embeddings = torch.concat(embeddings, dim=0)"
   ]
  },
  {
   "cell_type": "code",
   "execution_count": 13,
   "metadata": {},
   "outputs": [
    {
     "name": "stderr",
     "output_type": "stream",
     "text": [
      "/home/natitov/miniforge/envs/hack_lct/lib/python3.7/site-packages/sklearn/manifold/_t_sne.py:783: FutureWarning: The default initialization in TSNE will change from 'random' to 'pca' in 1.2.\n",
      "  FutureWarning,\n",
      "/home/natitov/miniforge/envs/hack_lct/lib/python3.7/site-packages/sklearn/manifold/_t_sne.py:793: FutureWarning: The default learning rate in TSNE will change from 200.0 to 'auto' in 1.2.\n",
      "  FutureWarning,\n"
     ]
    }
   ],
   "source": [
    "tsne = manifold.TSNE(n_components=2)\n",
    "tsne_embeddings = tsne.fit_transform(embeddings)"
   ]
  },
  {
   "cell_type": "code",
   "execution_count": 21,
   "metadata": {},
   "outputs": [
    {
     "data": {
      "text/plain": [
       "{'cancer': 0, 'covid': 1, 'normal': 2}"
      ]
     },
     "execution_count": 21,
     "metadata": {},
     "output_type": "execute_result"
    }
   ],
   "source": [
    "eval_dataset.class_to_idx"
   ]
  },
  {
   "cell_type": "code",
   "execution_count": 28,
   "metadata": {},
   "outputs": [
    {
     "data": {
      "image/png": "[encoded data removed]",
      "text/plain": [
       "<Figure size 1080x864 with 1 Axes>"
      ]
     },
     "metadata": {
      "needs_background": "light"
     },
     "output_type": "display_data"
    }
   ],
   "source": [
    "plt.figure(figsize=(15, 12))\n",
    "domains = np.array(domains)\n",
    "plt.scatter(tsne_embeddings[domains == 0][:, 0], tsne_embeddings[domains == 0][:, 1], c='red', label='cancer')\n",
    "plt.scatter(tsne_embeddings[domains == 1][:, 0], tsne_embeddings[domains == 1][:, 1], c='blue', label='covid')\n",
    "plt.scatter(tsne_embeddings[domains == 2][:, 0], tsne_embeddings[domains == 2][:, 1], c='green', label='normal')\n",
    "plt.xlabel('TSNE dimension 1')\n",
    "plt.ylabel('TSNE dimension 2')\n",
    "plt.legend()\n",
    "plt.grid(False);"
   ]
  },
  {
   "cell_type": "code",
   "execution_count": 19,
   "metadata": {},
   "outputs": [
    {
     "data": {
      "text/plain": [
       "array([[-3.67208672e+00, -2.22681160e+01],\n",
       "       [ 1.74087315e+01,  1.00354643e+01],\n",
       "       [-2.70875149e+01,  9.35823250e+00],\n",
       "       [-2.57867565e+01,  9.75229931e+00],\n",
       "       [-2.42539349e+01,  6.72838354e+00],\n",
       "       [-4.13985682e+00, -1.91270199e+01],\n",
       "       [-2.43515606e+01,  6.24696922e+00],\n",
       "       [ 1.82698174e+01,  7.22058630e+00],\n",
       "       [-2.56041718e+01,  1.21430750e+01],\n",
       "       [-2.70236626e+01,  7.45125008e+00],\n",
       "       [-2.58794174e+01,  6.94333744e+00],\n",
       "       [-2.45357800e+01,  6.20176935e+00],\n",
       "       [-4.43810844e+00, -2.27065887e+01],\n",
       "       [-2.53577862e+01,  5.44733047e+00],\n",
       "       [-2.57371464e+01,  9.75529575e+00],\n",
       "       [-2.82927918e+00, -2.18717670e+01],\n",
       "       [ 1.96330585e+01,  9.77343845e+00],\n",
       "       [-2.56086483e+01,  1.29400816e+01],\n",
       "       [-2.48307686e+01,  1.29412889e+01],\n",
       "       [ 2.45384579e+01,  9.70445442e+00],\n",
       "       [-2.82441282e+00, -1.92013092e+01],\n",
       "       [ 1.97504349e+01,  7.42225695e+00],\n",
       "       [-1.26328170e+00, -2.07113438e+01],\n",
       "       [-4.10199213e+00, -1.89275436e+01],\n",
       "       [-2.51486435e+01,  9.25324631e+00],\n",
       "       [-2.82441282e+00, -1.92013092e+01],\n",
       "       [ 2.18317585e+01,  1.07626963e+01],\n",
       "       [-2.82844048e+01,  1.09200621e+01],\n",
       "       [ 3.60876054e-01, -2.07493744e+01],\n",
       "       [-2.71953392e+00, -2.37302990e+01],\n",
       "       [-2.71337872e+01,  9.65210247e+00],\n",
       "       [-4.00194740e+00, -1.89921398e+01],\n",
       "       [-2.61111298e+01,  7.28039742e+00],\n",
       "       [ 1.39695001e+00, -2.23996353e+01],\n",
       "       [ 1.31479657e+00, -2.22023296e+01],\n",
       "       [-2.74135933e+01,  9.17970371e+00],\n",
       "       [ 1.95507755e+01,  9.59941578e+00],\n",
       "       [ 1.87786865e+01,  8.48111534e+00],\n",
       "       [-2.40888100e+01,  7.86529922e+00],\n",
       "       [ 2.05946655e+01,  1.02034807e+01],\n",
       "       [-2.81129436e+01,  1.21775150e+01],\n",
       "       [ 2.35506001e+01,  9.40856743e+00],\n",
       "       [-2.68346443e+01,  1.13559437e+01],\n",
       "       [-1.60317218e+00, -1.94192066e+01],\n",
       "       [-2.82441282e+00, -1.92013092e+01],\n",
       "       [ 2.38648224e+01,  1.16947298e+01],\n",
       "       [-1.38846958e+00, -1.97794056e+01],\n",
       "       [-2.51672993e+01,  1.23518372e+01],\n",
       "       [-2.41197205e+00, -2.04395657e+01],\n",
       "       [ 2.09368610e+01,  9.32176208e+00],\n",
       "       [ 1.81636162e+01,  9.46845818e+00],\n",
       "       [ 1.88233624e+01,  1.04396620e+01],\n",
       "       [-3.74844408e+00, -1.95515709e+01],\n",
       "       [-2.85296783e+01,  1.13069363e+01],\n",
       "       [-2.53703728e+01,  8.04416752e+00],\n",
       "       [ 2.01042042e+01,  8.42090797e+00],\n",
       "       [ 1.87780914e+01,  8.48226452e+00],\n",
       "       [ 2.15585213e+01,  7.66384172e+00],\n",
       "       [ 1.74096565e+01,  1.00425892e+01],\n",
       "       [-4.16490936e+00, -1.89498711e+01],\n",
       "       [-2.70688515e+01,  7.43874645e+00],\n",
       "       [ 1.70012817e+01,  8.60010052e+00],\n",
       "       [-2.79360437e+00, -2.36835098e+01],\n",
       "       [-2.66225395e+01,  1.26834059e+01],\n",
       "       [ 1.98279457e+01,  1.28834372e+01],\n",
       "       [ 2.01042042e+01,  8.42090797e+00],\n",
       "       [ 6.36065975e-02, -1.99844322e+01],\n",
       "       [-2.76624165e+01,  1.18433056e+01],\n",
       "       [-2.58399601e+01,  8.50606823e+00],\n",
       "       [-2.56489868e+01,  8.74590397e+00],\n",
       "       [ 2.30927792e+01,  8.71275043e+00],\n",
       "       [-2.61312275e+01,  1.23069353e+01],\n",
       "       [-2.36488628e+01,  8.17132664e+00],\n",
       "       [-2.71000838e+00, -1.76405487e+01],\n",
       "       [ 2.18318024e+01,  1.07627878e+01],\n",
       "       [-2.69846039e+01,  1.11518307e+01],\n",
       "       [ 2.03036728e+01,  1.30795765e+01],\n",
       "       [-2.41801529e+01,  7.80251265e+00],\n",
       "       [-1.89452183e+00, -2.01729012e+01],\n",
       "       [ 1.86830654e+01,  8.01677227e+00],\n",
       "       [ 2.32454739e+01,  1.02186594e+01],\n",
       "       [-2.45884838e+01,  5.62794256e+00],\n",
       "       [ 1.88256073e+01,  1.04286718e+01],\n",
       "       [-3.64158601e-01, -2.07174168e+01],\n",
       "       [-2.57914371e+01,  9.75048542e+00],\n",
       "       [-2.41377282e+00, -2.04325142e+01],\n",
       "       [ 1.98277054e+01,  1.28834915e+01],\n",
       "       [ 1.81725502e+01,  1.01693859e+01],\n",
       "       [-1.24176693e+00, -2.06319313e+01],\n",
       "       [-2.71000838e+00, -1.76405487e+01],\n",
       "       [-2.92396140e+00, -2.06534119e+01],\n",
       "       [ 2.05790863e+01,  8.37835312e+00],\n",
       "       [ 2.38643150e+01,  1.16899719e+01],\n",
       "       [ 2.09371243e+01,  9.32256317e+00],\n",
       "       [ 3.60581100e-01, -2.07481518e+01],\n",
       "       [-2.68219833e+01,  1.06178617e+01],\n",
       "       [-9.88896430e-01, -2.20949574e+01],\n",
       "       [-3.71441388e+00, -2.27470264e+01],\n",
       "       [ 2.32492561e+01,  1.02185583e+01],\n",
       "       [ 1.81636162e+01,  9.46845818e+00],\n",
       "       [-1.26119900e+00, -2.07085743e+01],\n",
       "       [ 1.96336765e+01,  9.77511883e+00],\n",
       "       [ 2.16981792e+01,  9.57499504e+00],\n",
       "       [-2.58492813e+01,  1.21731462e+01],\n",
       "       [ 2.14270515e+01,  1.13041573e+01],\n",
       "       [-2.87982225e+00, -2.18650780e+01],\n",
       "       [ 2.18317623e+01,  1.07625647e+01],\n",
       "       [-2.82441282e+00, -1.92013092e+01],\n",
       "       [-6.80196643e-01, -1.85894070e+01],\n",
       "       [-2.38352509e+01,  7.86192417e+00],\n",
       "       [ 1.81636162e+01,  9.46845818e+00],\n",
       "       [ 5.99527180e-01, -1.90180492e+01],\n",
       "       [-2.51725006e+01,  5.49842644e+00],\n",
       "       [-3.80027652e+00, -1.77061291e+01],\n",
       "       [-2.65711327e+01,  1.25936546e+01],\n",
       "       [ 5.99527180e-01, -1.90180492e+01],\n",
       "       [-2.09263062e+00, -1.93133144e+01],\n",
       "       [ 1.65762194e-03, -1.97774830e+01],\n",
       "       [ 1.24835372e+00, -2.22894325e+01],\n",
       "       [ 2.17024155e+01,  9.57505894e+00],\n",
       "       [-4.38450909e+00, -2.19247360e+01],\n",
       "       [-2.58837738e+01,  1.30844994e+01],\n",
       "       [ 2.01042042e+01,  8.42090797e+00],\n",
       "       [-2.82002449e+01,  1.08211823e+01],\n",
       "       [ 1.97529221e+01,  7.42193317e+00],\n",
       "       [ 2.32713585e+01,  8.12590313e+00],\n",
       "       [-4.43705654e+00, -2.27080746e+01],\n",
       "       [ 2.35506001e+01,  9.40856743e+00],\n",
       "       [-2.79998493e+01,  9.81486988e+00],\n",
       "       [-2.54514160e+01,  8.65778160e+00],\n",
       "       [ 1.66153209e-03, -1.97774868e+01],\n",
       "       [-4.62057066e+00, -2.11361732e+01],\n",
       "       [-2.85164833e+01,  1.18404636e+01],\n",
       "       [ 2.03038368e+01,  1.30799665e+01],\n",
       "       [ 2.07512093e+01,  7.93912077e+00],\n",
       "       [-2.59322376e+01,  1.26033211e+01],\n",
       "       [-1.39171755e+00, -1.97818661e+01],\n",
       "       [-2.55391617e+01,  1.20547810e+01],\n",
       "       [-2.53443871e+01,  8.65420151e+00],\n",
       "       [ 2.26666756e+01,  7.80156374e+00],\n",
       "       [ 2.30927792e+01,  8.71274948e+00],\n",
       "       [ 2.38648243e+01,  1.16947298e+01],\n",
       "       [-2.45282040e+01,  9.67100525e+00],\n",
       "       [-2.48454418e+01,  9.41787529e+00],\n",
       "       [-2.49715347e+01,  1.30706291e+01],\n",
       "       [-2.81981277e+01,  1.00465317e+01],\n",
       "       [ 2.09381084e+01,  9.32398987e+00],\n",
       "       [-2.43809719e+01,  7.10188246e+00],\n",
       "       [ 6.73372075e-02, -1.99846001e+01],\n",
       "       [-2.87265849e+00, -1.74811859e+01],\n",
       "       [-2.54819336e+01,  5.41005611e+00],\n",
       "       [-6.80195570e-01, -1.85894070e+01],\n",
       "       [ 2.30154533e+01,  1.02419643e+01],\n",
       "       [ 2.01042042e+01,  8.42090797e+00],\n",
       "       [ 2.02259579e+01,  7.98443460e+00],\n",
       "       [ 2.45384865e+01,  9.70594311e+00],\n",
       "       [ 1.39694989e+00, -2.23996353e+01],\n",
       "       [-2.87265849e+00, -1.74811859e+01],\n",
       "       [-1.54804480e+00, -2.28292599e+01],\n",
       "       [-3.47338605e+00, -1.78113289e+01],\n",
       "       [ 2.38109703e+01,  8.52535915e+00],\n",
       "       [-2.63516579e+01,  8.44402122e+00],\n",
       "       [-2.53855777e+00, -2.12812691e+01],\n",
       "       [-2.09548950e+00, -2.37093582e+01],\n",
       "       [-2.85431004e+01,  1.18661175e+01],\n",
       "       [-7.24511027e-01, -2.18609619e+01],\n",
       "       [-2.65614185e+01,  8.34572029e+00],\n",
       "       [ 1.81681900e+01,  9.47655106e+00]], dtype=float32)"
      ]
     },
     "execution_count": 19,
     "metadata": {},
     "output_type": "execute_result"
    }
   ],
   "source": [
    "tsne_embeddings"
   ]
  },
  {
   "cell_type": "code",
   "execution_count": null,
   "metadata": {},
   "outputs": [],
   "source": []
  }
 ],
 "metadata": {
  "kernelspec": {
   "display_name": "Python 3.7.12 ('hack_lct')",
   "language": "python",
   "name": "python3"
  },
  "language_info": {
   "codemirror_mode": {
    "name": "ipython",
    "version": 3
   },
   "file_extension": ".py",
   "mimetype": "text/x-python",
   "name": "python",
   "nbconvert_exporter": "python",
   "pygments_lexer": "ipython3",
   "version": "3.7.12"
  },
  "orig_nbformat": 4,
  "vscode": {
   "interpreter": {
    "hash": "a3f295056defde4433ed5fc2b741708031d72bc9c9ddba9e24d35a8c2637138c"
   }
  }
 },
 "nbformat": 4,
 "nbformat_minor": 2
}
