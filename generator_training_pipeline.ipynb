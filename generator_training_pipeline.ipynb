{
 "cells": [
  {
   "cell_type": "code",
   "execution_count": 1,
   "metadata": {},
   "outputs": [
    {
     "name": "stdout",
     "output_type": "stream",
     "text": [
      "Fri Nov  4 16:50:51 2022       \n",
      "+-----------------------------------------------------------------------------+\n",
      "| NVIDIA-SMI 510.47.03    Driver Version: 510.47.03    CUDA Version: 11.6     |\n",
      "|-------------------------------+----------------------+----------------------+\n",
      "| GPU  Name        Persistence-M| Bus-Id        Disp.A | Volatile Uncorr. ECC |\n",
      "| Fan  Temp  Perf  Pwr:Usage/Cap|         Memory-Usage | GPU-Util  Compute M. |\n",
      "|                               |                      |               MIG M. |\n",
      "|===============================+======================+======================|\n",
      "|   0  Tesla V100-PCIE...  On   | 00000000:8B:00.0 Off |                    0 |\n",
      "| N/A   28C    P0    26W / 250W |      4MiB / 32768MiB |      0%      Default |\n",
      "|                               |                      |                  N/A |\n",
      "+-------------------------------+----------------------+----------------------+\n",
      "                                                                               \n",
      "+-----------------------------------------------------------------------------+\n",
      "| Processes:                                                                  |\n",
      "|  GPU   GI   CI        PID   Type   Process name                  GPU Memory |\n",
      "|        ID   ID                                                   Usage      |\n",
      "|=============================================================================|\n",
      "|    0   N/A  N/A       688      G   /usr/lib/xorg/Xorg                  4MiB |\n",
      "+-----------------------------------------------------------------------------+\n"
     ]
    }
   ],
   "source": [
    "!nvidia-smi"
   ]
  },
  {
   "cell_type": "code",
   "execution_count": 2,
   "metadata": {},
   "outputs": [
    {
     "name": "stdout",
     "output_type": "stream",
     "text": [
      "Namespace(batch_size=8, beta1=0.0, beta2=0.99, checkpoint_dir='./StarGAN/hackaton/TripletsEncoderGAN-experiments/checkpoints', eval_dir='expr/eval', eval_every=1000000, hidden_dim=512, img_size=256, inp_dir='assets/representative/custom/female', lambda_cyc=1.5, lambda_reg=1, lambda_sty=1, lm_path='expr/checkpoints/celeba_lm_mean.npz', lr=0.0001, mode='train', num_domains=2, num_outs_per_domain=10, num_workers=8, out_dir='assets/representative/celeba_hq/src/female', print_every=50, randcrop_prob=0.0, ref_dir='assets/representative/celeba_hq/ref', result_dir='expr/results', resume_iter=0, sample_dir='./StarGAN/hackaton/TripletsEncoderGAN-experiments/samples', sample_every=5000, save_every=2500, seed=777, src_dir='assets/representative/celeba_hq/src', style_dim=64, total_iters=100000, train_reference_img_dir='./StarGAN/hackaton/TripletsEncoderGAN-experiments/dataset/train/reference', train_source_img_dir='./StarGAN/hackaton/TripletsEncoderGAN-experiments/dataset/train/source', val_batch_size=32, val_img_dir='/home/natitov/hack_lct/timothy/StarGAN/hackaton/stargan-v2-experiments/dataset/val', w_hpf=0, weight_decay=0.0001, wing_path='expr/checkpoints/wing.ckpt')\n",
      "Number of parameters of generator: 33892995\n",
      "Number of parameters of style_encoder: 20949760\n",
      "Number of parameters of discriminator: 20852803\n",
      "Initializing generator...\n",
      "Initializing style_encoder...\n",
      "Initializing discriminator...\n",
      "Preparing DataLoader to fetch source images during the training phase...\n",
      "Preparing DataLoader to fetch reference images during the training phase...\n",
      "Start training...\n",
      "  0%|                                    | 49/100000 [00:56<33:22:07,  1.20s/it]Elapsed time [0:00:57], Iteration [50/100000], D/lossdiscriminator_loss: [0.0000] D/lossreg: [0.0000] G/lossadv: [2.0000] G/losssty: [0.3230] G/losscyc: [0.2151]\n",
      "  0%|                                    | 99/100000 [01:51<30:52:06,  1.11s/it]Elapsed time [0:01:53], Iteration [100/100000], D/lossdiscriminator_loss: [0.0000] D/lossreg: [0.0000] G/lossadv: [2.0000] G/losssty: [0.2491] G/losscyc: [0.1923]\n",
      "  0%|                                   | 149/100000 [02:47<30:20:16,  1.09s/it]Elapsed time [0:02:48], Iteration [150/100000], D/lossdiscriminator_loss: [0.0000] D/lossreg: [0.0000] G/lossadv: [2.0000] G/losssty: [0.2478] G/losscyc: [0.1686]\n",
      "  0%|                                   | 199/100000 [03:43<35:43:45,  1.29s/it]Elapsed time [0:03:44], Iteration [200/100000], D/lossdiscriminator_loss: [0.0000] D/lossreg: [0.0000] G/lossadv: [2.0000] G/losssty: [0.2397] G/losscyc: [0.1740]\n",
      "  0%|                                   | 240/100000 [04:28<30:23:24,  1.10s/it]^C\n",
      "  0%|                                   | 240/100000 [04:29<31:05:35,  1.12s/it]\n",
      "Traceback (most recent call last):\n",
      "  File \"GeneratorEncoderTriplets/main.py\", line 175, in <module>\n",
      "    main(args)\n",
      "  File \"GeneratorEncoderTriplets/main.py\", line 58, in main\n",
      "    solver.train(loaders)\n",
      "  File \"/home/natitov/hack_lct/timothy/GeneratorEncoderTriplets/solver.py\", line 126, in train\n",
      "    g_loss.backward()\n",
      "  File \"/home/natitov/miniforge/envs/hack_lct/lib/python3.7/site-packages/torch/_tensor.py\", line 307, in backward\n",
      "    torch.autograd.backward(self, gradient, retain_graph, create_graph, inputs=inputs)\n",
      "  File \"/home/natitov/miniforge/envs/hack_lct/lib/python3.7/site-packages/torch/autograd/__init__.py\", line 156, in backward\n",
      "    allow_unreachable=True, accumulate_grad=True)  # allow_unreachable flag\n",
      "KeyboardInterrupt\n"
     ]
    }
   ],
   "source": [
    "!python3 'GeneratorEncoderTriplets/main.py' --mode 'train'"
   ]
  },
  {
   "cell_type": "code",
   "execution_count": null,
   "metadata": {},
   "outputs": [],
   "source": []
  },
  {
   "cell_type": "code",
   "execution_count": null,
   "metadata": {},
   "outputs": [],
   "source": []
  }
 ],
 "metadata": {
  "kernelspec": {
   "display_name": "Python 3.7.12 ('hack_lct')",
   "language": "python",
   "name": "python3"
  },
  "language_info": {
   "codemirror_mode": {
    "name": "ipython",
    "version": 3
   },
   "file_extension": ".py",
   "mimetype": "text/x-python",
   "name": "python",
   "nbconvert_exporter": "python",
   "pygments_lexer": "ipython3",
   "version": "3.7.12"
  },
  "orig_nbformat": 4,
  "vscode": {
   "interpreter": {
    "hash": "a3f295056defde4433ed5fc2b741708031d72bc9c9ddba9e24d35a8c2637138c"
   }
  }
 },
 "nbformat": 4,
 "nbformat_minor": 2
}
