{
 "cells": [
  {
   "cell_type": "code",
   "execution_count": 1,
   "metadata": {},
   "outputs": [
    {
     "name": "stdout",
     "output_type": "stream",
     "text": [
      "Mon Nov  7 19:34:30 2022       \n",
      "+-----------------------------------------------------------------------------+\n",
      "| NVIDIA-SMI 510.47.03    Driver Version: 510.47.03    CUDA Version: 11.6     |\n",
      "|-------------------------------+----------------------+----------------------+\n",
      "| GPU  Name        Persistence-M| Bus-Id        Disp.A | Volatile Uncorr. ECC |\n",
      "| Fan  Temp  Perf  Pwr:Usage/Cap|         Memory-Usage | GPU-Util  Compute M. |\n",
      "|                               |                      |               MIG M. |\n",
      "|===============================+======================+======================|\n",
      "|   0  Tesla V100-PCIE...  On   | 00000000:8B:00.0 Off |                    0 |\n",
      "| N/A   33C    P0    37W / 250W |  16067MiB / 32768MiB |      0%      Default |\n",
      "|                               |                      |                  N/A |\n",
      "+-------------------------------+----------------------+----------------------+\n",
      "                                                                               \n",
      "+-----------------------------------------------------------------------------+\n",
      "| Processes:                                                                  |\n",
      "|  GPU   GI   CI        PID   Type   Process name                  GPU Memory |\n",
      "|        ID   ID                                                   Usage      |\n",
      "|=============================================================================|\n",
      "|    0   N/A  N/A       701      G   /usr/lib/xorg/Xorg                  4MiB |\n",
      "|    0   N/A  N/A     31602      C   .../envs/hack_lct/bin/python    16059MiB |\n",
      "+-----------------------------------------------------------------------------+\n"
     ]
    }
   ],
   "source": [
    "!nvidia-smi"
   ]
  },
  {
   "cell_type": "code",
   "execution_count": 2,
   "metadata": {},
   "outputs": [
    {
     "name": "stdout",
     "output_type": "stream",
     "text": [
      "Configuration:\n",
      " Namespace(batch_size=8, beta1=0.0, beta2=0.99, checkpoint_dir='./hackaton/TripletsEncoderGAN-experiments/checkpoints4', eval_dir='expr/eval', eval_every=10000000, hidden_dim=512, img_size=256, inp_dir='assets/representative/custom/female', lambda_cyc=1, lambda_reg=1, lambda_sty=1, lm_path='expr/checkpoints/celeba_lm_mean.npz', lr=0.0001, mode='train', num_domains=2, num_outs_per_domain=10, num_workers=8, out_dir='assets/representative/celeba_hq/src/female', print_every=50, randcrop_prob=0.0, ref_dir='assets/representative/celeba_hq/ref', result_dir='expr/results', resume_iter=0, sample_dir='./hackaton/TripletsEncoderGAN-experiments/samples', sample_every=10000000, save_every=2500, seed=777, src_dir='assets/representative/celeba_hq/src', style_dim=64, total_iters=100000, train_reference_img_dir='./hackaton/TripletsEncoderGAN-experiments/dataset/train/reference', train_source_img_dir='./hackaton/TripletsEncoderGAN-experiments/dataset/train/source', val_batch_size=32, val_img_dir='/home/natitov/hack_lct/timothy/StarGAN/hackaton/stargan-v2-experiments/dataset/val', w_hpf=0, weight_decay=0.0001, wing_path='expr/checkpoints/wing.ckpt')\n",
      "Number of parameters in model generator: 33892995\n",
      "Number of parameters in model style_encoder: 25557032\n",
      "Number of parameters in model discriminator: 20852803\n",
      "Initializing model generator by He...\n",
      "Initializing model discriminator by He...\n",
      "Preparing DataLoader to fetch source images during the training phase...\n",
      "Preparing DataLoader to fetch reference images during the training phase...\n",
      "Start training...\n",
      "  0%|                                                | 0/100000 [00:00<?, ?it/s]Elapsed time [0:00:02], Iteration [1/100000], D/lossdiscriminator_loss: [1.0107] G/lossadv: [1.9760] G/losssty: [0.1592] G/losscyc: [0.9030]\n",
      "  0%|                                    | 50/100000 [00:38<21:52:14,  1.27it/s]Elapsed time [0:00:39], Iteration [51/100000], D/lossdiscriminator_loss: [1.0000] G/lossadv: [1.0000] G/losssty: [0.1417] G/losscyc: [0.2546]\n",
      "  0%|                                   | 100/100000 [01:15<20:28:23,  1.36it/s]Elapsed time [0:01:15], Iteration [101/100000], D/lossdiscriminator_loss: [1.0000] G/lossadv: [1.0000] G/losssty: [0.1471] G/losscyc: [0.2309]\n",
      "  0%|                                   | 150/100000 [01:52<20:01:20,  1.39it/s]Elapsed time [0:01:53], Iteration [151/100000], D/lossdiscriminator_loss: [1.0000] G/lossadv: [1.0000] G/losssty: [0.1428] G/losscyc: [0.2642]\n",
      "  0%|                                   | 200/100000 [02:29<20:05:14,  1.38it/s]Elapsed time [0:02:29], Iteration [201/100000], D/lossdiscriminator_loss: [1.0000] G/lossadv: [1.0000] G/losssty: [0.1359] G/losscyc: [0.1910]\n",
      "  0%|                                   | 250/100000 [03:06<19:52:51,  1.39it/s]Elapsed time [0:03:07], Iteration [251/100000], D/lossdiscriminator_loss: [1.0000] G/lossadv: [1.0000] G/losssty: [0.1337] G/losscyc: [0.1788]\n",
      "  0%|                                   | 300/100000 [03:42<19:41:20,  1.41it/s]Elapsed time [0:03:43], Iteration [301/100000], D/lossdiscriminator_loss: [1.0000] G/lossadv: [1.0000] G/losssty: [0.1268] G/losscyc: [0.1582]\n",
      "  0%|                                   | 350/100000 [04:19<19:55:36,  1.39it/s]Elapsed time [0:04:19], Iteration [351/100000], D/lossdiscriminator_loss: [1.0000] G/lossadv: [1.0000] G/losssty: [0.1240] G/losscyc: [0.1562]\n",
      "  0%|▏                                  | 400/100000 [04:56<19:39:27,  1.41it/s]Elapsed time [0:04:57], Iteration [401/100000], D/lossdiscriminator_loss: [1.0000] G/lossadv: [1.0000] G/losssty: [0.1263] G/losscyc: [0.1463]\n",
      "  0%|▏                                  | 450/100000 [05:33<19:51:05,  1.39it/s]Elapsed time [0:05:33], Iteration [451/100000], D/lossdiscriminator_loss: [1.0000] G/lossadv: [1.0000] G/losssty: [0.1224] G/losscyc: [0.1549]\n",
      "  0%|▏                                  | 500/100000 [06:10<19:55:12,  1.39it/s]Elapsed time [0:06:11], Iteration [501/100000], D/lossdiscriminator_loss: [1.0000] G/lossadv: [1.0000] G/losssty: [0.1311] G/losscyc: [0.1523]\n",
      "  1%|▏                                  | 550/100000 [06:47<19:56:01,  1.39it/s]Elapsed time [0:06:47], Iteration [551/100000], D/lossdiscriminator_loss: [1.0000] G/lossadv: [1.0000] G/losssty: [0.1160] G/losscyc: [0.1429]\n",
      "  1%|▏                                  | 600/100000 [07:25<24:54:48,  1.11it/s]Elapsed time [0:07:25], Iteration [601/100000], D/lossdiscriminator_loss: [1.0000] G/lossadv: [1.0000] G/losssty: [0.1108] G/losscyc: [0.1473]\n",
      "  1%|▏                                  | 650/100000 [08:01<20:46:58,  1.33it/s]Elapsed time [0:08:02], Iteration [651/100000], D/lossdiscriminator_loss: [1.0000] G/lossadv: [1.0000] G/losssty: [0.1251] G/losscyc: [0.1743]\n",
      "  1%|▏                                  | 700/100000 [08:38<20:05:09,  1.37it/s]Elapsed time [0:08:38], Iteration [701/100000], D/lossdiscriminator_loss: [1.0000] G/lossadv: [1.0000] G/losssty: [0.1153] G/losscyc: [0.1423]\n",
      "  1%|▎                                  | 750/100000 [09:15<19:55:01,  1.38it/s]Elapsed time [0:09:16], Iteration [751/100000], D/lossdiscriminator_loss: [1.0000] G/lossadv: [1.0000] G/losssty: [0.1115] G/losscyc: [0.1242]\n",
      "  1%|▎                                  | 800/100000 [09:52<19:57:57,  1.38it/s]Elapsed time [0:09:52], Iteration [801/100000], D/lossdiscriminator_loss: [1.0000] G/lossadv: [1.0000] G/losssty: [0.1109] G/losscyc: [0.1445]\n",
      "  1%|▎                                  | 850/100000 [10:29<19:52:36,  1.39it/s]Elapsed time [0:10:30], Iteration [851/100000], D/lossdiscriminator_loss: [1.0000] G/lossadv: [1.0000] G/losssty: [0.1158] G/losscyc: [0.1473]\n",
      "  1%|▎                                  | 874/100000 [10:46<19:45:19,  1.39it/s]^C\n",
      "  1%|▎                                  | 874/100000 [10:47<20:24:45,  1.35it/s]\n",
      "Traceback (most recent call last):\n",
      "  File \"./GeneratorEncoderTriplets/GAN/main.py\", line 167, in <module>\n",
      "    main(args)\n",
      "  File \"./GeneratorEncoderTriplets/GAN/main.py\", line 50, in main\n",
      "    solver.train(loaders)\n",
      "  File \"/home/natitov/hack_lct/timothy/GeneratorEncoderTriplets/GAN/solver.py\", line 125, in train\n",
      "    nets, args, x_real, y_org, x_ref, y_trg, masks=masks\n",
      "  File \"/home/natitov/hack_lct/timothy/GeneratorEncoderTriplets/GAN/solver.py\", line 225, in compute_g_loss\n",
      "    return loss, Munch(adv=loss_adv.item(),\n",
      "KeyboardInterrupt\n"
     ]
    }
   ],
   "source": [
    "!python3 './GeneratorEncoderTriplets/GAN/main.py' --mode 'train'"
   ]
  },
  {
   "cell_type": "code",
   "execution_count": null,
   "metadata": {},
   "outputs": [],
   "source": []
  },
  {
   "cell_type": "code",
   "execution_count": null,
   "metadata": {},
   "outputs": [],
   "source": []
  }
 ],
 "metadata": {
  "kernelspec": {
   "display_name": "Python 3.7.12 ('hack_lct')",
   "language": "python",
   "name": "python3"
  },
  "language_info": {
   "codemirror_mode": {
    "name": "ipython",
    "version": 3
   },
   "file_extension": ".py",
   "mimetype": "text/x-python",
   "name": "python",
   "nbconvert_exporter": "python",
   "pygments_lexer": "ipython3",
   "version": "3.7.12"
  },
  "orig_nbformat": 4,
  "vscode": {
   "interpreter": {
    "hash": "a3f295056defde4433ed5fc2b741708031d72bc9c9ddba9e24d35a8c2637138c"
   }
  }
 },
 "nbformat": 4,
 "nbformat_minor": 2
}
