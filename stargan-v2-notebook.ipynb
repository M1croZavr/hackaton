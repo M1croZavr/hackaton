{
 "cells": [
  {
   "cell_type": "code",
   "execution_count": 1,
   "metadata": {},
   "outputs": [],
   "source": [
    "import torch\n",
    "import skimage\n",
    "import tqdm"
   ]
  },
  {
   "cell_type": "code",
   "execution_count": 6,
   "metadata": {},
   "outputs": [
    {
     "name": "stdout",
     "output_type": "stream",
     "text": [
      "Namespace(batch_size=8, beta1=0.0, beta2=0.99, checkpoint_dir='./hackaton/stargan-v2-experiments/checkpoints/', ds_iter=100000, eval_dir='./hackaton/stargan-v2-experiments/eval/', eval_every=1000000, f_lr=1e-06, hidden_dim=512, img_size=256, inp_dir='assets/representative/custom/female', lambda_cyc=2, lambda_ds=1, lambda_reg=1, lambda_sty=1, latent_dim=16, lm_path='expr/checkpoints/celeba_lm_mean.npz', lr=0.0001, mode='train', num_domains=3, num_outs_per_domain=10, num_workers=8, out_dir='assets/representative/celeba_hq/src/female', print_every=50, randcrop_prob=0.0, ref_dir='assets/representative/celeba_hq/ref', result_dir='expr/results', resume_iter=50000, sample_dir='./hackaton/stargan-v2-experiments/samples/', sample_every=5000, save_every=5000, seed=777, src_dir='assets/representative/celeba_hq/src', style_dim=64, total_iters=100000, train_img_dir='./hackaton/stargan-v2-experiments/dataset/train/', val_batch_size=32, val_img_dir='./hackaton/stargan-v2-experiments/dataset/val/', w_hpf=0, weight_decay=0.0001, wing_path='expr/checkpoints/wing.ckpt')\n",
      "Number of parameters of generator: 33892995\n",
      "Number of parameters of mapping_network: 3259072\n",
      "Number of parameters of style_encoder: 20949760\n",
      "Number of parameters of discriminator: 20852803\n",
      "Initializing generator...\n",
      "Initializing mapping_network...\n",
      "Initializing style_encoder...\n",
      "Initializing discriminator...\n",
      "Preparing DataLoader to fetch source images during the training phase...\n",
      "Preparing DataLoader to fetch reference images during the training phase...\n",
      "Preparing DataLoader for the generation phase...\n",
      "Loading checkpoint from ./hackaton/stargan-v2-experiments/checkpoints/050000_nets.ckpt...\n",
      "Loading checkpoint from ./hackaton/stargan-v2-experiments/checkpoints/050000_nets_ema.ckpt...\n",
      "Loading checkpoint from ./hackaton/stargan-v2-experiments/checkpoints/050000_optims.ckpt...\n",
      "Start training...\n",
      "  0%|                                     | 49/50000 [01:49<28:59:13,  2.09s/it]Elapsed time [0:01:51], Iteration [50050/100000], D/latent_real: [0.1715] D/latent_fake: [0.0029] D/latent_reg: [0.0669] D/ref_real: [0.0058] D/ref_fake: [0.0740] D/ref_reg: [0.0124] G/latent_adv: [6.7120] G/latent_sty: [0.1551] G/latent_ds: [0.0163] G/latent_cyc: [0.1764] G/ref_adv: [3.6797] G/ref_sty: [0.2832] G/ref_ds: [0.5580] G/ref_cyc: [0.1852] G/lambda_ds: [0.9995]\n",
      "  0%|                                     | 99/50000 [03:34<28:56:14,  2.09s/it]Elapsed time [0:03:36], Iteration [50100/100000], D/latent_real: [0.1438] D/latent_fake: [0.0049] D/latent_reg: [0.0835] D/ref_real: [0.0085] D/ref_fake: [0.0415] D/ref_reg: [0.0297] G/latent_adv: [5.2691] G/latent_sty: [0.2554] G/latent_ds: [0.0146] G/latent_cyc: [0.1304] G/ref_adv: [4.1641] G/ref_sty: [0.1383] G/ref_ds: [0.3450] G/ref_cyc: [0.1250] G/lambda_ds: [0.9990]\n",
      "  0%|                                    | 149/50000 [05:20<32:02:47,  2.31s/it]Elapsed time [0:05:22], Iteration [50150/100000], D/latent_real: [0.1000] D/latent_fake: [0.0144] D/latent_reg: [0.0628] D/ref_real: [0.0100] D/ref_fake: [0.1129] D/ref_reg: [0.0326] G/latent_adv: [6.9676] G/latent_sty: [0.1862] G/latent_ds: [0.0174] G/latent_cyc: [0.1326] G/ref_adv: [4.5614] G/ref_sty: [0.2721] G/ref_ds: [0.3949] G/ref_cyc: [0.1251] G/lambda_ds: [0.9985]\n",
      "  0%|▏                                   | 199/50000 [07:04<28:52:17,  2.09s/it]Elapsed time [0:07:06], Iteration [50200/100000], D/latent_real: [0.0398] D/latent_fake: [0.0063] D/latent_reg: [0.0565] D/ref_real: [0.0150] D/ref_fake: [0.1243] D/ref_reg: [0.0473] G/latent_adv: [6.3804] G/latent_sty: [0.1228] G/latent_ds: [0.0173] G/latent_cyc: [0.1396] G/ref_adv: [5.2562] G/ref_sty: [0.1794] G/ref_ds: [0.4208] G/ref_cyc: [0.1450] G/lambda_ds: [0.9980]\n",
      "  0%|▏                                   | 235/50000 [08:19<28:52:53,  2.09s/it]^C\n",
      "  0%|▏                                   | 235/50000 [08:21<29:30:54,  2.14s/it]\n",
      "Traceback (most recent call last):\n",
      "  File \"./stargan_v2/main.py\", line 182, in <module>\n",
      "    main(args)\n",
      "  File \"./stargan_v2/main.py\", line 59, in main\n",
      "    solver.train(loaders)\n",
      "  File \"/home/natitov/hack_leonid/timofey/stargan_v2/core/solver.py\", line 135, in train\n",
      "    optims.generator.step()\n",
      "  File \"/home/natitov/miniforge/envs/avtostrah/lib/python3.7/site-packages/torch/optim/optimizer.py\", line 88, in wrapper\n",
      "    return func(*args, **kwargs)\n",
      "  File \"/home/natitov/miniforge/envs/avtostrah/lib/python3.7/site-packages/torch/autograd/grad_mode.py\", line 28, in decorate_context\n",
      "    return func(*args, **kwargs)\n",
      "  File \"/home/natitov/miniforge/envs/avtostrah/lib/python3.7/site-packages/torch/optim/adam.py\", line 144, in step\n",
      "    eps=group['eps'])\n",
      "  File \"/home/natitov/miniforge/envs/avtostrah/lib/python3.7/site-packages/torch/optim/_functional.py\", line 86, in adam\n",
      "    exp_avg.mul_(beta1).add_(grad, alpha=1 - beta1)\n",
      "KeyboardInterrupt\n"
     ]
    }
   ],
   "source": [
    "!python3 './stargan_v2/main.py' --mode 'train' --train_img_dir './hackaton/stargan-v2-experiments/dataset/train/' --val_img_dir './hackaton/stargan-v2-experiments/dataset/val/' \\\n",
    "    --sample_dir './hackaton/stargan-v2-experiments/samples/' --checkpoint_dir './hackaton/stargan-v2-experiments/checkpoints/' \\\n",
    "    --eval_dir './hackaton/stargan-v2-experiments/eval/' --resume_iter 50000 --eval_every 1000000"
   ]
  },
  {
   "cell_type": "code",
   "execution_count": 1,
   "metadata": {},
   "outputs": [
    {
     "name": "stdout",
     "output_type": "stream",
     "text": [
      "Mon Oct 31 21:58:13 2022       \n",
      "+-----------------------------------------------------------------------------+\n",
      "| NVIDIA-SMI 510.47.03    Driver Version: 510.47.03    CUDA Version: 11.6     |\n",
      "|-------------------------------+----------------------+----------------------+\n",
      "| GPU  Name        Persistence-M| Bus-Id        Disp.A | Volatile Uncorr. ECC |\n",
      "| Fan  Temp  Perf  Pwr:Usage/Cap|         Memory-Usage | GPU-Util  Compute M. |\n",
      "|                               |                      |               MIG M. |\n",
      "|===============================+======================+======================|\n",
      "|   0  Tesla V100-PCIE...  On   | 00000000:8B:00.0 Off |                    0 |\n",
      "| N/A   31C    P0    25W / 250W |      4MiB / 32768MiB |      0%      Default |\n",
      "|                               |                      |                  N/A |\n",
      "+-------------------------------+----------------------+----------------------+\n",
      "                                                                               \n",
      "+-----------------------------------------------------------------------------+\n",
      "| Processes:                                                                  |\n",
      "|  GPU   GI   CI        PID   Type   Process name                  GPU Memory |\n",
      "|        ID   ID                                                   Usage      |\n",
      "|=============================================================================|\n",
      "|    0   N/A  N/A       692      G   /usr/lib/xorg/Xorg                  4MiB |\n",
      "+-----------------------------------------------------------------------------+\n"
     ]
    }
   ],
   "source": [
    "!nvidia-smi"
   ]
  },
  {
   "cell_type": "code",
   "execution_count": null,
   "metadata": {},
   "outputs": [],
   "source": []
  }
 ],
 "metadata": {
  "kernelspec": {
   "display_name": "Python 3.7.12 ('avtostrah')",
   "language": "python",
   "name": "python3"
  },
  "language_info": {
   "codemirror_mode": {
    "name": "ipython",
    "version": 3
   },
   "file_extension": ".py",
   "mimetype": "text/x-python",
   "name": "python",
   "nbconvert_exporter": "python",
   "pygments_lexer": "ipython3",
   "version": "3.7.12"
  },
  "orig_nbformat": 4,
  "vscode": {
   "interpreter": {
    "hash": "64996aacf98fcd90a2b625bb3d0226ace917eb98e4e4298332b08b3bceec3c32"
   }
  }
 },
 "nbformat": 4,
 "nbformat_minor": 2
}
